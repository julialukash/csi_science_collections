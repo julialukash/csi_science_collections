{
 "cells": [
  {
   "cell_type": "code",
   "execution_count": null,
   "metadata": {
    "collapsed": false
   },
   "outputs": [],
   "source": [
    "import sys\n",
    "import numpy as np\n",
    "import artm\n",
    "print artm.version()\n",
    "\n",
    "from os import path, mkdir\n",
    "from datetime import datetime\n",
    "%matplotlib inline\n",
    "sys.path.insert(0, '..\\\\modules\\\\helpers')\n",
    "from plot_helper import PlotMaker\n",
    "from config_helper import ConfigPaths\n",
    "from print_helper import PrintHelper"
   ]
  },
  {
   "cell_type": "code",
   "execution_count": null,
   "metadata": {
    "collapsed": false
   },
   "outputs": [],
   "source": [
    "config = ConfigPaths('config.cfg')\n",
    "plot_maker = PlotMaker()\n",
    "printer = PrintHelper()"
   ]
  },
  {
   "cell_type": "code",
   "execution_count": null,
   "metadata": {
    "collapsed": false
   },
   "outputs": [],
   "source": [
    "print config.models_file_name"
   ]
  },
  {
   "cell_type": "code",
   "execution_count": null,
   "metadata": {
    "collapsed": true
   },
   "outputs": [],
   "source": [
    "models_file = open(config.models_file_name, 'a')"
   ]
  },
  {
   "cell_type": "code",
   "execution_count": null,
   "metadata": {
    "collapsed": true
   },
   "outputs": [],
   "source": [
    "def create_model(current_dictionary, n_topics, n_doc_passes, seed_value, n_top_tokens, p_mass_threshold):    \n",
    "    print '[{}] creating model'.format(datetime.now())\n",
    "    model = artm.ARTM(num_topics=n_topics, dictionary=current_dictionary, cache_theta=True, seed=seed_value, \n",
    "                  class_ids={'ngramm': 1.0, 'author_id': 0.0, 'author': 0.0, \n",
    "                             'post_tag': 0.0, 'projects': 0.0, 'category': 0.0,\n",
    "                             'following_users': 0.0})\n",
    "    model.num_document_passes = n_doc_passes\n",
    "    add_scores_to_model(model, n_top_tokens=n_top_tokens, p_mass_threshold=p_mass_threshold)\n",
    "    return model\n",
    "\n",
    "\n",
    "def add_scores_to_model(artm_model, n_top_tokens, p_mass_threshold):\n",
    "    print '[{}] adding scores'.format(datetime.now())\n",
    "    artm_model.scores.add(artm.PerplexityScore(name='perplexity_score',\n",
    "                                      use_unigram_document_model=False,\n",
    "                                      dictionary=dictionary))\n",
    "    artm_model.scores.add(artm.SparsityPhiScore(name='sparsity_phi_score', class_id='ngramm'))\n",
    "    artm_model.scores.add(artm.SparsityThetaScore(name='sparsity_theta_score'))\n",
    "    artm_model.scores.add(artm.TopicKernelScore(name='topic_kernel_score', class_id='ngramm', \n",
    "                                                probability_mass_threshold=p_mass_threshold))\n",
    "    artm_model.scores.add(artm.TopTokensScore(name='top_tokens_score', class_id='ngramm', num_tokens=n_top_tokens))"
   ]
  },
  {
   "cell_type": "code",
   "execution_count": null,
   "metadata": {
    "collapsed": true
   },
   "outputs": [],
   "source": [
    "def process_one_model(dictionary, _n_topics, _n_doc_passes, _seed_value, _n_top_tokens, _p_mass_threshold, _n_iterations,\n",
    "                     _model_name=''):\n",
    "    print '[{}] processing model'.format(datetime.now())\n",
    "    model = create_model(current_dictionary=dictionary, n_topics=_n_topics, n_doc_passes=_n_doc_passes, seed_value=_seed_value,\n",
    "                         n_top_tokens=_n_top_tokens, p_mass_threshold=_p_mass_threshold)\n",
    "    model = fit_one_model(model, _n_iterations, _model_name)\n",
    "    return model\n",
    "    \n",
    "def fit_one_model(model, _n_iterations, _model_name=''): \n",
    "    print '[{}] fitting'.format(datetime.now())\n",
    "    model.fit_offline(batch_vectorizer=batch_vectorizer, num_collection_passes=_n_iterations)\n",
    "    print '[{}] outputting'.format(datetime.now())\n",
    "    printer.print_artm_model(model, _model_name, _n_iterations, output_file=models_file)\n",
    "    model_pics_file_name =  path.join(config.experiment_path, _model_name)\n",
    "    plot_maker.make_tm_plots(model, model_pics_file_name)\n",
    "    model_output_file_name = path.join(config.experiment_path, _model_name + '.txt')\n",
    "    printer.print_scores(model, _model_name, _n_iterations, model_output_file_name)\n",
    "    printer.print_top_tokens(model, model_output_file_name)\n",
    "    return model"
   ]
  },
  {
   "cell_type": "code",
   "execution_count": null,
   "metadata": {
    "collapsed": true
   },
   "outputs": [],
   "source": [
    "def save_model(_model, _model_name): \n",
    "    print '[{}] saving model'.format(datetime.now())\n",
    "    model_output_file_name = path.join(config.models_archive_path, _model_name)\n",
    "    _model.save(filename=model_output_file_name+'_saved_p_wt', model_name=_model_name+'p_wt')\n",
    "    _model.save(filename=model_output_file_name+'_saved_n_wt', model_name=_model_name+'n_wt')"
   ]
  },
  {
   "cell_type": "code",
   "execution_count": null,
   "metadata": {
    "collapsed": false
   },
   "outputs": [],
   "source": [
    "batch_vectorizer = artm.BatchVectorizer(data_path=config.dataset_path,\n",
    "                                        data_format='bow_uci',\n",
    "                                        collection_name=config.collection_name,\n",
    "                                        target_folder=config.output_batches_path)\n",
    "dictionary = artm.Dictionary()\n",
    "dictionary.gather(data_path=config.output_batches_path,\n",
    "                  vocab_file_path=config.vocabulary_path)\n",
    "dictionary.save(dictionary_path=config.dictionary_path)\n",
    "dictionary.save_text(dictionary_path=config.dictionary_path + '.txt')\n",
    "dictionary.load_text(dictionary_path=config.dictionary_path + '.txt')"
   ]
  },
  {
   "cell_type": "code",
   "execution_count": null,
   "metadata": {
    "collapsed": false
   },
   "outputs": [],
   "source": [
    "batch_vectorizer = artm.BatchVectorizer(data_path=config.output_batches_path,\n",
    "                                        data_format='batches')\n",
    "dictionary = artm.Dictionary()\n",
    "dictionary.load(dictionary_path=config.dictionary_path + '.dict')"
   ]
  },
  {
   "cell_type": "code",
   "execution_count": null,
   "metadata": {
    "collapsed": true
   },
   "outputs": [],
   "source": [
    "# dictionary.filter(min_tf=5, max_tf=2000, min_df_rate=0.01, max_df_rate=0.9)"
   ]
  },
  {
   "cell_type": "code",
   "execution_count": null,
   "metadata": {
    "collapsed": true
   },
   "outputs": [],
   "source": [
    "# простая модель без регуляризаторов \n",
    "# темы вроде нормаьльные, возможно в некоторых темах странные слова-выбросы (18)"
   ]
  },
  {
   "cell_type": "code",
   "execution_count": null,
   "metadata": {
    "collapsed": false
   },
   "outputs": [],
   "source": [
    "model_no_reg2000_5 = create_model(current_dictionary=dictionary, n_topics=2000, n_doc_passes=5, seed_value=100,\n",
    "                            n_top_tokens=15, p_mass_threshold=0.25)\n",
    "model_no_reg2000_5 = fit_one_model(model_no_reg2000_5, _n_iterations=25, _model_name='model_no_reg2000_5')"
   ]
  },
  {
   "cell_type": "code",
   "execution_count": null,
   "metadata": {
    "collapsed": false
   },
   "outputs": [],
   "source": [
    "model_no_reg2000_5_ds = create_model(current_dictionary=dictionary, n_topics=2000, n_doc_passes=5, seed_value=200,\n",
    "                            n_top_tokens=15, p_mass_threshold=0.25)\n",
    "model_no_reg2000_5_ds = fit_one_model(model_no_reg2000_5_ds, _n_iterations=25, _model_name='model_no_reg2000_5_ds')"
   ]
  },
  {
   "cell_type": "code",
   "execution_count": null,
   "metadata": {
    "collapsed": true
   },
   "outputs": [],
   "source": [
    "# простая модель c sparse регуляризаторами "
   ]
  },
  {
   "cell_type": "code",
   "execution_count": null,
   "metadata": {
    "collapsed": false
   },
   "outputs": [],
   "source": [
    "model_sparse_reg_1 = create_model(current_dictionary=dictionary, n_topics=2000, n_doc_passes=5, seed_value=100,\n",
    "                            n_top_tokens=15, p_mass_threshold=0.25)\n",
    "model_sparse_reg_1 = fit_one_model(model_sparse_reg_1, _n_iterations=25, _model_name='model_sparse_reg_1')\n",
    "model_sparse_reg_1.regularizers.add(artm.SmoothSparsePhiRegularizer(name='sparse_phi_regularizer', class_ids=['ngramm']))\n",
    "model_sparse_reg_1.regularizers.add(artm.SmoothSparseThetaRegularizer(name='sparse_theta_regularizer', class_ids=['ngramm']))\n",
    "model_sparse_reg_1.regularizers['sparse_phi_regularizer'].tau = -0.5\n",
    "model_sparse_reg_1.regularizers['sparse_theta_regularizer'].tau = -0.5\n",
    "model_sparse_reg_1 = fit_one_model(model_sparse_reg_1, _n_iterations=20, _model_name='model_sparse_reg_1')"
   ]
  },
  {
   "cell_type": "code",
   "execution_count": null,
   "metadata": {
    "collapsed": false
   },
   "outputs": [],
   "source": []
  },
  {
   "cell_type": "code",
   "execution_count": null,
   "metadata": {
    "collapsed": true
   },
   "outputs": [],
   "source": [
    "# простая модель со всеми регуляризаторами"
   ]
  },
  {
   "cell_type": "code",
   "execution_count": null,
   "metadata": {
    "collapsed": false
   },
   "outputs": [],
   "source": [
    "model_3_reg = create_model(current_dictionary=dictionary, n_topics=3000, n_doc_passes=5, seed_value=100,\n",
    "                            n_top_tokens=15, p_mass_threshold=0.25)\n",
    "model_3_reg.regularizers.add(artm.SmoothSparsePhiRegularizer(name='sparse_phi_regularizer'))\n",
    "model_3_reg.regularizers.add(artm.SmoothSparseThetaRegularizer(name='sparse_theta_regularizer'))\n",
    "model_3_reg.regularizers.add(artm.DecorrelatorPhiRegularizer(name='decorrelator_phi_regularizer'))\n",
    "model_3_reg.regularizers['sparse_phi_regularizer'].tau = -0.5\n",
    "model_3_reg.regularizers['sparse_theta_regularizer'].tau = -0.5\n",
    "model_3_reg.regularizers['decorrelator_phi_regularizer'].tau = 1e+1\n",
    "model_3_reg = fit_one_model(model_3_reg, _n_iterations=80, _model_name='model_3_reg')\n",
    "# save_model(model_3_reg, 'model_sparse_reg')"
   ]
  },
  {
   "cell_type": "code",
   "execution_count": null,
   "metadata": {
    "collapsed": false
   },
   "outputs": [],
   "source": [
    "# простая модель, другой seed"
   ]
  },
  {
   "cell_type": "code",
   "execution_count": null,
   "metadata": {
    "collapsed": false
   },
   "outputs": [],
   "source": [
    "model_no_reg2 = create_model(current_dictionary=dictionary, n_topics=500, n_doc_passes=15, seed_value=1984,\n",
    "                            n_top_tokens=15, p_mass_threshold=0.25)\n",
    "model_no_reg2 = fit_one_model(model_no_reg2, _n_iterations=30, _model_name='model_no_reg2')\n",
    "# save_model(model_no_reg2, 'model_no_reg2')"
   ]
  },
  {
   "cell_type": "code",
   "execution_count": null,
   "metadata": {
    "collapsed": true
   },
   "outputs": [],
   "source": [
    "# модель с sparse регуляризаторами, другие коэффициенты, больше итераций по коллекции, меньше по документам"
   ]
  },
  {
   "cell_type": "code",
   "execution_count": null,
   "metadata": {
    "collapsed": false
   },
   "outputs": [],
   "source": [
    "model_sparse_reg = create_model(current_dictionary=dictionary, n_topics=500, n_doc_passes=5, seed_value=100,\n",
    "                            n_top_tokens=15, p_mass_threshold=0.25)\n",
    "model_sparse_reg.regularizers.add(artm.SmoothSparsePhiRegularizer(name='sparse_phi_regularizer'))\n",
    "model_sparse_reg.regularizers.add(artm.SmoothSparseThetaRegularizer(name='sparse_theta_regularizer'))\n",
    "model_sparse_reg.regularizers['sparse_phi_regularizer'].tau = -0.5\n",
    "model_sparse_reg.regularizers['sparse_theta_regularizer'].tau = -0.5\n",
    "model_sparse_reg = fit_one_model(model_sparse_reg, _n_iterations=100, _model_name='model_sparse_reg')"
   ]
  },
  {
   "cell_type": "code",
   "execution_count": null,
   "metadata": {
    "collapsed": true
   },
   "outputs": [],
   "source": [
    "# модель с sparse регуляризаторами, 100 тем"
   ]
  },
  {
   "cell_type": "code",
   "execution_count": null,
   "metadata": {
    "collapsed": false
   },
   "outputs": [],
   "source": [
    "model_sparse_reg = create_model(current_dictionary=dictionary, n_topics=100, n_doc_passes=5, seed_value=100,\n",
    "                            n_top_tokens=15, p_mass_threshold=0.25)\n",
    "model_sparse_reg.regularizers.add(artm.SmoothSparsePhiRegularizer(name='sparse_phi_regularizer'))\n",
    "model_sparse_reg.regularizers.add(artm.SmoothSparseThetaRegularizer(name='sparse_theta_regularizer'))\n",
    "model_sparse_reg.regularizers['sparse_phi_regularizer'].tau = -0.5\n",
    "model_sparse_reg.regularizers['sparse_theta_regularizer'].tau = -0.5\n",
    "model_sparse_reg = fit_one_model(model_sparse_reg, _n_iterations=80, _model_name='model_sparse_reg')"
   ]
  },
  {
   "cell_type": "code",
   "execution_count": null,
   "metadata": {
    "collapsed": true
   },
   "outputs": [],
   "source": [
    "# decorrelator"
   ]
  },
  {
   "cell_type": "code",
   "execution_count": null,
   "metadata": {
    "collapsed": false
   },
   "outputs": [],
   "source": [
    "model_4_reg = create_model(current_dictionary=dictionary, n_topics=1000, n_doc_passes=10, seed_value=100,\n",
    "                            n_top_tokens=15, p_mass_threshold=0.25)\n",
    "model_4_reg.regularizers.add(artm.SmoothSparsePhiRegularizer(name='sparse_phi_regularizer',class_ids=['ngramm']))\n",
    "model_4_reg.regularizers.add(artm.SmoothSparseThetaRegularizer(name='sparse_theta_regularizer'))\n",
    "model_4_reg.regularizers.add(artm.DecorrelatorPhiRegularizer(name='decorrelator_phi_regularizer',class_ids=['ngramm']))\n",
    "model_4_reg.regularizers['sparse_phi_regularizer'].tau = -0.5\n",
    "model_4_reg.regularizers['sparse_theta_regularizer'].tau = -0.5\n",
    "model_4_reg.regularizers['decorrelator_phi_regularizer'].tau = 1e+4\n",
    "model_4_reg = fit_one_model(model_4_reg, _n_iterations=150, _model_name='model_4_reg')\n",
    "# save_model(model_3_reg, 'model_sparse_reg')"
   ]
  },
  {
   "cell_type": "code",
   "execution_count": null,
   "metadata": {
    "collapsed": true
   },
   "outputs": [],
   "source": []
  },
  {
   "cell_type": "code",
   "execution_count": null,
   "metadata": {
    "collapsed": false
   },
   "outputs": [],
   "source": [
    "model_5_reg = create_model(current_dictionary=dictionary, n_topics=1000, n_doc_passes=10, seed_value=100,\n",
    "                           n_top_tokens=15, p_mass_threshold=0.25)\n",
    "model_5_reg.regularizers.add(artm.SmoothSparsePhiRegularizer(name='sparse_phi_regularizer',class_ids=['ngramm']))\n",
    "model_5_reg.regularizers.add(artm.SmoothSparseThetaRegularizer(name='sparse_theta_regularizer'))\n",
    "model_5_reg.regularizers.add(artm.DecorrelatorPhiRegularizer(name='decorrelator_phi_regularizer',class_ids=['ngramm']))\n",
    "model_5_reg.regularizers['sparse_phi_regularizer'].tau = -0.5\n",
    "model_5_reg.regularizers['sparse_theta_regularizer'].tau = -0.5\n",
    "model_5_reg.regularizers['decorrelator_phi_regularizer'].tau = 1e+3\n",
    "model_5_reg = fit_one_model(model_5_reg, _n_iterations=100, _model_name='model_5_reg')"
   ]
  },
  {
   "cell_type": "code",
   "execution_count": null,
   "metadata": {
    "collapsed": true
   },
   "outputs": [],
   "source": []
  },
  {
   "cell_type": "code",
   "execution_count": null,
   "metadata": {
    "collapsed": false
   },
   "outputs": [],
   "source": [
    "model_6_reg = create_model(current_dictionary=dictionary, n_topics=1000, n_doc_passes=5, seed_value=100,\n",
    "                           n_top_tokens=15, p_mass_threshold=0.25)\n",
    "model_6_reg.regularizers.add(artm.SmoothSparsePhiRegularizer(name='sparse_phi_regularizer',class_ids=['ngramm']))\n",
    "model_6_reg.regularizers.add(artm.SmoothSparseThetaRegularizer(name='sparse_theta_regularizer'))\n",
    "model_6_reg.regularizers.add(artm.DecorrelatorPhiRegularizer(name='decorrelator_phi_regularizer',class_ids=['ngramm']))\n",
    "model_6_reg.regularizers['sparse_phi_regularizer'].tau = -0.5\n",
    "model_6_reg.regularizers['sparse_theta_regularizer'].tau = -0.5\n",
    "model_6_reg.regularizers['decorrelator_phi_regularizer'].tau = 1e+2\n",
    "model_6_reg = fit_one_model(model_6_reg, _n_iterations=100, _model_name='model_6_reg')"
   ]
  },
  {
   "cell_type": "code",
   "execution_count": null,
   "metadata": {
    "collapsed": true
   },
   "outputs": [],
   "source": []
  },
  {
   "cell_type": "code",
   "execution_count": null,
   "metadata": {
    "collapsed": true
   },
   "outputs": [],
   "source": [
    "model_7_reg = create_model(current_dictionary=dictionary, n_topics=1000, n_doc_passes=5, seed_value=100,\n",
    "                           n_top_tokens=15, p_mass_threshold=0.25)\n",
    "model_7_reg.regularizers.add(artm.SmoothSparsePhiRegularizer(name='sparse_phi_regularizer',class_ids=['ngramm']))\n",
    "model_7_reg.regularizers.add(artm.SmoothSparseThetaRegularizer(name='sparse_theta_regularizer'))\n",
    "model_7_reg.regularizers.add(artm.DecorrelatorPhiRegularizer(name='decorrelator_phi_regularizer',class_ids=['ngramm']))\n",
    "model_7_reg.regularizers['sparse_phi_regularizer'].tau = -0.5\n",
    "model_7_reg.regularizers['sparse_theta_regularizer'].tau = -0.5\n",
    "model_7_reg.regularizers['decorrelator_phi_regularizer'].tau = 1e+1\n",
    "model_7_reg = fit_one_model(model_7_reg, _n_iterations=100, _model_name='model_7_reg')"
   ]
  },
  {
   "cell_type": "code",
   "execution_count": null,
   "metadata": {
    "collapsed": true
   },
   "outputs": [],
   "source": []
  },
  {
   "cell_type": "code",
   "execution_count": null,
   "metadata": {
    "collapsed": true
   },
   "outputs": [],
   "source": [
    "model_8_reg = create_model(current_dictionary=dictionary, n_topics=1000, n_doc_passes=5, seed_value=100,\n",
    "                           n_top_tokens=15, p_mass_threshold=0.25)\n",
    "model_8_reg.regularizers.add(artm.SmoothSparsePhiRegularizer(name='sparse_phi_regularizer',class_ids=['ngramm']))\n",
    "model_8_reg.regularizers.add(artm.SmoothSparseThetaRegularizer(name='sparse_theta_regularizer'))\n",
    "model_8_reg.regularizers.add(artm.DecorrelatorPhiRegularizer(name='decorrelator_phi_regularizer',class_ids=['ngramm']))\n",
    "model_8_reg.regularizers['sparse_phi_regularizer'].tau = -0.5\n",
    "model_8_reg.regularizers['sparse_theta_regularizer'].tau = -0.5\n",
    "model_8_reg.regularizers['decorrelator_phi_regularizer'].tau = 1e-1\n",
    "model_8_reg = fit_one_model(model_8_reg, _n_iterations=100, _model_name='model_8_reg')"
   ]
  },
  {
   "cell_type": "code",
   "execution_count": null,
   "metadata": {
    "collapsed": true
   },
   "outputs": [],
   "source": []
  },
  {
   "cell_type": "code",
   "execution_count": null,
   "metadata": {
    "collapsed": true
   },
   "outputs": [],
   "source": [
    "model_9_reg = create_model(current_dictionary=dictionary, n_topics=1000, n_doc_passes=5, seed_value=100,\n",
    "                           n_top_tokens=15, p_mass_threshold=0.25)\n",
    "model_9_reg.regularizers.add(artm.SmoothSparsePhiRegularizer(name='sparse_phi_regularizer',class_ids=['ngramm']))\n",
    "model_9_reg.regularizers.add(artm.SmoothSparseThetaRegularizer(name='sparse_theta_regularizer'))\n",
    "model_9_reg.regularizers.add(artm.DecorrelatorPhiRegularizer(name='decorrelator_phi_regularizer',class_ids=['ngramm']))\n",
    "model_9_reg.regularizers['sparse_phi_regularizer'].tau = -0.5\n",
    "model_9_reg.regularizers['sparse_theta_regularizer'].tau = -0.5\n",
    "model_9_reg.regularizers['decorrelator_phi_regularizer'].tau = 1e-3\n",
    "model_9_reg = fit_one_model(model_9_reg, _n_iterations=100, _model_name='9_reg')"
   ]
  },
  {
   "cell_type": "code",
   "execution_count": null,
   "metadata": {
    "collapsed": true
   },
   "outputs": [],
   "source": []
  },
  {
   "cell_type": "code",
   "execution_count": null,
   "metadata": {
    "collapsed": true
   },
   "outputs": [],
   "source": []
  },
  {
   "cell_type": "code",
   "execution_count": null,
   "metadata": {
    "collapsed": true
   },
   "outputs": [],
   "source": [
    "models_file.close()"
   ]
  }
 ],
 "metadata": {
  "anaconda-cloud": {},
  "kernelspec": {
   "display_name": "Python [conda root]",
   "language": "python",
   "name": "conda-root-py"
  },
  "language_info": {
   "codemirror_mode": {
    "name": "ipython",
    "version": 2
   },
   "file_extension": ".py",
   "mimetype": "text/x-python",
   "name": "python",
   "nbconvert_exporter": "python",
   "pygments_lexer": "ipython2",
   "version": "2.7.12"
  }
 },
 "nbformat": 4,
 "nbformat_minor": 1
}
