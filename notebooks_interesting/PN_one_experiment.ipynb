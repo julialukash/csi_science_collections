{
 "cells": [
  {
   "cell_type": "markdown",
   "metadata": {},
   "source": [
    "Ноутбук с экспериментами по построению convex hull по синтетическим данным модели 3."
   ]
  },
  {
   "cell_type": "code",
   "execution_count": 11,
   "metadata": {
    "collapsed": false,
    "scrolled": false
   },
   "outputs": [
    {
     "name": "stdout",
     "output_type": "stream",
     "text": [
      "0.8.1\n"
     ]
    }
   ],
   "source": [
    "import pickle\n",
    "import sys\n",
    "import numpy as np\n",
    "import pandas as pd\n",
    "import artm\n",
    "import seaborn as sns\n",
    "import matplotlib.pyplot as plt\n",
    "print artm.version()\n",
    "\n",
    "from os import path, mkdir\n",
    "from datetime import datetime\n",
    "sys.path.insert(0, '..\\\\modules\\\\helpers')\n",
    "\n",
    "import distances_helper as dh \n",
    "import print_helper as ph\n",
    "import create_model_helper as cmh\n",
    "import build_convex_hull_helper as bchh\n",
    "import test_vs_original_columns_helper as tvsoch\n",
    "import compare_two_models as ctm\n",
    "\n",
    "from plot_helper import PlotMaker\n",
    "from config_helper import ConfigPaths\n",
    "from scipy.optimize import minimize"
   ]
  },
  {
   "cell_type": "code",
   "execution_count": 3,
   "metadata": {
    "collapsed": false,
    "scrolled": false
   },
   "outputs": [
    {
     "name": "stdout",
     "output_type": "stream",
     "text": [
      "Q:\\\\topic_modeling\\\\csi_science_collections.git\\experiments\\pn_model3\\np_27_03_oe\\models.txt\n"
     ]
    }
   ],
   "source": [
    "config = ConfigPaths('config_sample_m3.cfg')\n",
    "print config.models_file_name\n",
    "models_file = open(config.models_file_name, 'a')\n",
    "\n",
    "plot_maker = PlotMaker()\n",
    "\n",
    "batch_vectorizer = artm.BatchVectorizer(data_path=config.output_batches_path,\n",
    "                                        data_format='batches')\n",
    "dictionary = artm.Dictionary()\n",
    "dictionary.load(dictionary_path=config.dictionary_path + '.dict')"
   ]
  },
  {
   "cell_type": "code",
   "execution_count": 20,
   "metadata": {
    "collapsed": true
   },
   "outputs": [],
   "source": [
    "def load_pickle_file(filename, _path=config.experiment_path):\n",
    "    pickle_filename = path.join(_path, filename)\n",
    "    pickle_file = open(pickle_filename, 'rb')\n",
    "    p_file = pickle.load(pickle_file)\n",
    "    pickle_file.close()\n",
    "    return p_file"
   ]
  },
  {
   "cell_type": "markdown",
   "metadata": {},
   "source": [
    "Загрузим оригинальный sample датасет (от model3), до этого скопировав в папку с batches нужные pickle файлы модели."
   ]
  },
  {
   "cell_type": "code",
   "execution_count": 5,
   "metadata": {
    "collapsed": false
   },
   "outputs": [
    {
     "name": "stdout",
     "output_type": "stream",
     "text": [
      "(2216, 100) (100, 3446)\n"
     ]
    }
   ],
   "source": [
    "phi_original, theta_original = load_pickle_file('phi_model3.p', config.output_batches_path), load_pickle_file('theta_model3.p', config.output_batches_path)\n",
    "print phi_original.shape, theta_original.shape"
   ]
  },
  {
   "cell_type": "markdown",
   "metadata": {
    "collapsed": true
   },
   "source": [
    "# Построить выпуклую оболочку по матрице\n",
    "Создадим матрицу phi_Test, в/о которой будем строить"
   ]
  },
  {
   "cell_type": "code",
   "execution_count": 17,
   "metadata": {
    "collapsed": false
   },
   "outputs": [
    {
     "name": "stdout",
     "output_type": "stream",
     "text": [
      "name = m1_iter_0, n_topics = 200, n_doc_passes = 5, seed_value = 100, n_iterations = 25, top_tokens_score = 15, topic_kernel_score = 0.25\n",
      "\n"
     ]
    }
   ],
   "source": [
    "def create_model_1(n_iteration, n_topics=200):\n",
    "    model_name = 'm1_iter_{}'.format(n_iteration)\n",
    "    tmp_model = cmh.create_model(current_dictionary=dictionary, n_topics=n_topics, n_doc_passes=5, seed_value=100 + n_iteration,\n",
    "                                 n_top_tokens=15, p_mass_threshold=0.25)\n",
    "    tmp_model = cmh.fit_one_model(plot_maker, batch_vectorizer, models_file, config, \n",
    "                                  tmp_model, _n_iterations=25, \n",
    "                                  _model_name=model_name)\n",
    "    return tmp_model\n",
    "tmp_model = create_model_1(0)\n",
    "phi_test = tmp_model.get_phi()"
   ]
  },
  {
   "cell_type": "markdown",
   "metadata": {},
   "source": [
    "Строим в/о с помощью решения оптимизационной задачи (get_em_result_one_matrix).\n",
    "Каждый раз фильтруем по порогу (opt_fun_threshold) не одну л/з тему, а сразу несколько (для ускорения), но так, чтобы они были далеко друг от друга (n_closest_topics_count)."
   ]
  },
  {
   "cell_type": "code",
   "execution_count": 19,
   "metadata": {
    "collapsed": false
   },
   "outputs": [
    {
     "name": "stdout",
     "output_type": "stream",
     "text": [
      "[2017-03-27 20:28:28.449000] filtering iteration = 1 / 50\n",
      "Column topic_17 not optimized\n",
      "Column topic_124 not optimized\n",
      "Column topic_141 not optimized\n",
      "Column topic_194 not optimized\n",
      "[2017-03-27 20:29:18.887000] 14 topics to remove, 50 not_removed_topics_count because close topics, current convex_hull shape = (2216, 186)\n",
      "[2017-03-27 20:29:18.887000] filtering iteration = 2 / 50\n",
      "Column topic_50 not optimized\n",
      "Column topic_64 not optimized\n",
      "[2017-03-27 20:30:06.172000] 9 topics to remove, 27 not_removed_topics_count because close topics, current convex_hull shape = (2216, 177)\n",
      "[2017-03-27 20:30:06.172000] filtering iteration = 3 / 50\n",
      "[2017-03-27 20:30:50.429000] 4 topics to remove, 19 not_removed_topics_count because close topics, current convex_hull shape = (2216, 173)\n",
      "[2017-03-27 20:30:50.429000] filtering iteration = 4 / 50\n",
      "Column topic_63 not optimized\n",
      "Column topic_141 not optimized\n",
      "[2017-03-27 20:31:34.645000] 6 topics to remove, 10 not_removed_topics_count because close topics, current convex_hull shape = (2216, 167)\n",
      "[2017-03-27 20:31:34.645000] filtering iteration = 5 / 50\n",
      "[2017-03-27 20:32:18.029000] 3 topics to remove, 1 not_removed_topics_count because close topics, current convex_hull shape = (2216, 164)\n",
      "[2017-03-27 20:32:18.030000] filtering iteration = 6 / 50\n",
      "[2017-03-27 20:32:55.483000] 0 topics to remove, 0 not_removed_topics_count because close topics, current convex_hull shape = (2216, 164)\n",
      "[2017-03-27 20:32:55.483000] topics to remove not increasing, breaking the for loop\n"
     ]
    }
   ],
   "source": [
    "get_topics_to_remove_fn = bchh.get_topics_to_remove_by_opt_fun_and_distance\n",
    "dist_fn = dh.hellinger_dist\n",
    "n_closest_topics_count = 15\n",
    "get_result_one_matrix_fn = bchh.get_optimization_result_one_matrix # get_em_result_one_matrix\n",
    "opt_fun_threshold = 0.6\n",
    "\n",
    "phi_convex_hull, iterations_info_filter = bchh.filter_convex_hull(phi_test, get_topics_to_remove_fn, dist_fn, \n",
    "                                                                     get_result_one_matrix_fn,\n",
    "                                                                     n_closest_topics_count, opt_fun_threshold, max_iteration=50,\n",
    "                                                                     previous_iterations_info_list=[],\n",
    "                                                                     use_previous_iterations=False)"
   ]
  },
  {
   "cell_type": "markdown",
   "metadata": {},
   "source": [
    "Спроектируем phi_convex_hull на phi_original "
   ]
  },
  {
   "cell_type": "code",
   "execution_count": 21,
   "metadata": {
    "collapsed": false
   },
   "outputs": [
    {
     "name": "stdout",
     "output_type": "stream",
     "text": [
      "Column topic_100 not optimized\n"
     ]
    }
   ],
   "source": [
    "distances_to_original = dh.calculate_distances(dist_fn, phi_convex_hull, phi_original)\n",
    "opt_res_to_original = bchh.get_optimization_result(dist_fn, None, phi_convex_hull, phi_original, distances_to_original,\n",
    "                                                   n_closest_topics=n_closest_topics_count)"
   ]
  },
  {
   "cell_type": "markdown",
   "metadata": {},
   "source": [
    "Посчитаем число колонок из phi_convex_hull, которые удовл. условию - расстояние от них до л/к из оригинальных столбцов < порога. "
   ]
  },
  {
   "cell_type": "code",
   "execution_count": 30,
   "metadata": {
    "collapsed": false
   },
   "outputs": [
    {
     "name": "stdout",
     "output_type": "stream",
     "text": [
      "th = 0.4 close_cols_count = 85\n"
     ]
    }
   ],
   "source": [
    "th = 0.4\n",
    "close_cols_count = [opt_col_name for opt_col_name, val in opt_res_to_original.iteritems() if val['fun'] < th]\n",
    "print 'th =', th, 'close_cols_count =', len(close_cols_count)"
   ]
  }
 ],
 "metadata": {
  "anaconda-cloud": {},
  "kernelspec": {
   "display_name": "Python [default]",
   "language": "python",
   "name": "python2"
  },
  "language_info": {
   "codemirror_mode": {
    "name": "ipython",
    "version": 2
   },
   "file_extension": ".py",
   "mimetype": "text/x-python",
   "name": "python",
   "nbconvert_exporter": "python",
   "pygments_lexer": "ipython2",
   "version": "2.7.13"
  }
 },
 "nbformat": 4,
 "nbformat_minor": 1
}
