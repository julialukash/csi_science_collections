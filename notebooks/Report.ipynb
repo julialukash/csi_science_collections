{
 "cells": [
  {
   "cell_type": "markdown",
   "metadata": {},
   "source": [
    "## PN_choose_model_100.ipynb\n",
    "Зафиксировано число тем = 100. Были поробованы разные модели, отобрано несколько моделей: \n",
    "* без регуляризатора\n",
    " * name = model_100_1, n_topics = 100, n_doc_passes = 5, seed_value = 100, n_iterations = 20, n_top_tokens = 15, p_threshold = 0.25\n",
    " * last_perplexity_score = 1065.4691168\n",
    " * last_sparsity_phi_score = 0.76290761491\n",
    " * last_sparsity_theta_score = 0.00162797446315\n",
    " * last_topic_kernel_avgsize = 155.89\n",
    " * last_topic_kernel_purity = 0.287688379533\n",
    " * last_topic_kernel_contrast = 0.468397835486\n",
    "* с регуляризаторами, хорошие показатели, но avg kernel size = 90\n",
    " * name = model_100_7, n_topics = 100, n_doc_passes = 5, seed_value = 100, n_iterations = 20, n_top_tokens = 15, p_threshold = 0.25, ss_theta_regularizer, tau = -0.5, decorrelator_phi_regularizer, tau = 10, ss_phi_regularizer, tau = -0.5\n",
    " * last_perplexity_score = 886.578272434\n",
    " * last_sparsity_phi_score = 0.979305968443\n",
    " * last_sparsity_theta_score = 0.769207777133\n",
    " * last_topic_kernel_avgsize = 89.23\n",
    " * last_topic_kernel_purity = 0.50039540324\n",
    " * last_topic_kernel_contrast = 0.728560167745\n",
    "* с регуляризаторами, хорошие показатели, примерно одинаковые, avg kernel size = 24\n",
    " * name = model_100_12, n_topics = 100, n_doc_passes = 5, seed_value = 100, n_iterations = 20, n_top_tokens = 15, p_threshold = 0.25, ss_theta_regularizer, tau = -0.5, decorrelator_phi_regularizer, tau = 10, ss_phi_regularizer, tau = -2\n",
    " * last_perplexity_score = 384.451799322\n",
    " * last_sparsity_phi_score = 0.994879373428\n",
    " * last_sparsity_theta_score = 0.74879280325\n",
    " * last_topic_kernel_avgsize = 23.68\n",
    " * last_topic_kernel_purity = 0.629848034538\n",
    " * last_topic_kernel_contrast = 0.776075642\n",
    "\n",
    "## PN_visualize_convex_hull_100_3models.ipynb\n",
    "Для выбранных моделей были посчитаны внутренние расстояния, посчитан функционал opt при выбрасывании одной темы.\n",
    "\n",
    "Выводы: самая отрегуляризованная модель (3) расстояние наибольшее, модель 1 - размазано расстояние.\n",
    "\n",
    "TODO: сравнить метрики расстояния\n",
    "## PN_model_to_ndw.ipynb\n",
    "Для 3х моделей.\n",
    "\n",
    "TODO: сравнить sample model без умножения на длину документа.\n",
    "## PN_ndw_to_batch.ipynb\n",
    "Для 3х моделей.\n",
    "\n",
    "# TODO\n",
    "Для каждого из созданного датасета:\n",
    "* создать несколько моделей, сравнить их (для начала можно выбрать 2 модели - без регуляризаторов и сильно разреженную)\n",
    "* стабильность: запустить много раз, посмотреть сколько новых тем с каждым разом; как определить новая ли тема? (перестановки и т.д) -> строим матрицу попарных расстояний (hemm) и по топ словам, пытаемся соотнести - порог, новая/не новая + почитать статьи\n",
    "* полнота: запускаем один раз, строим попарные расстояния внутренние, запускаем оптимизацию, смотрим расстояния, откидываем зависимые\n",
    "\n",
    "## PN_choose_model_20_sample-model123.ipynb\n",
    "Даже без регуляризаторов модели получаются с норм показателями (кроме ss theta и большой средний размер ядра) \n"
   ]
  },
  {
   "cell_type": "markdown",
   "metadata": {},
   "source": [
    "todo: для каждой получившейся convex hull посчитать внутреннее расстояние и спроектировать на original\n",
    "## PN_build_convex_hull-sample_m3_2\n",
    "Модель 3: \n",
    "* name = model_100_12, n_topics = 100, n_doc_passes = 5, seed_value = 100, n_iterations = 20, n_top_tokens = 15, p_threshold = 0.25, ss_theta_regularizer, tau = -0.5, decorrelator_phi_regularizer, tau = 10, ss_phi_regularizer, tau = -2\n",
    "\n",
    "Сonvex hulls:\n",
    "- create_model_fn_1: n_topics=20, n_doc_passes=5, seed_value=100 + n_iteration, n_top_tokens=15, p_mass_threshold=0.25\n",
    "От порога зависит сколько тем получится в convex hull, для модели из 20 тем 0,6 слишком большой - остаётся 24 темы (2.30h); или 25-30 тем уже на 20 итерации (10m) и потом число тем колеблится +/- в этих рамках, итого 28 тем(1.30h)\n",
    "Порог 0.4: за 40 итераций постоянно растёт convex hull, итого 150 тем\n",
    "Порог 0.5: за 60 итераций дошло до 61\n",
    "Порог 0.45:\n",
    "\n",
    "- create_model_fn_2: n_topics=100, n_doc_passes=5, seed_value=100 + n_iteration, n_top_tokens=15, p_mass_threshold=0.25\n",
    "Delayed Filtering each 10: накапливалось и отфильтровывалось до 100-110, итого 40 итераций 112 тем (2h)\n",
    "Filtering: 100-120 число тем, итого 50 итераций 111 тем (2h)\n",
    "- create_model_fn_3: n_topics=20, n_doc_passes=5, seed_value=100 + n_iteration, n_top_tokens=15, p_mass_threshold=0.25, ['decorrelator_phi_regularizer'].tau = 300, ['ss_theta_regularizer'].tau = -5, ['ss_phi_regularizer'].tau = -20\n",
    "Delayed Filtering: сошлась до 56 тем (3h)\n",
    "Filtering: после 60 итерации (1h) сошлась к 57 темам (3.30h)\n",
    "- create_model_fn_4: n_topics=100, n_doc_passes=5, seed_value=100 + n_iteration, n_top_tokens=15, p_mass_threshold=0.25, ['decorrelator_phi_regularizer'].tau = 10, ['ss_theta_regularizer'].tau = -0.5, ['ss_phi_regularizer'].tau = -2\n",
    "Delayed Filtering each 10: 233, 326, 410, 484\n",
    "Filtering: \n",
    "Порог 0.6: 543 и всё растёт, для такой хорошей модели порог нужно выше задавать\n",
    "Порог 0.7: отфильтровка до 304 \n",
    "Порог 0.8: отфильтровка до 139 / набор до 118\n",
    "\n",
    "По opt res до original convex hull 21, 22, 31 ближе всего -> 1 и 3 модели (+ там меньше тем)\n",
    "То есть модели из 20 тем \n",
    "\n",
    "- порог \n",
    "- оценка качества: \n",
    "* стабильности\n",
    "* полноты \n"
   ]
  },
  {
   "cell_type": "code",
   "execution_count": null,
   "metadata": {
    "collapsed": true
   },
   "outputs": [],
   "source": []
  }
 ],
 "metadata": {
  "anaconda-cloud": {},
  "kernelspec": {
   "display_name": "Python [default]",
   "language": "python",
   "name": "python2"
  },
  "language_info": {
   "codemirror_mode": {
    "name": "ipython",
    "version": 2
   },
   "file_extension": ".py",
   "mimetype": "text/x-python",
   "name": "python",
   "nbconvert_exporter": "python",
   "pygments_lexer": "ipython2",
   "version": "2.7.12"
  }
 },
 "nbformat": 4,
 "nbformat_minor": 2
}
