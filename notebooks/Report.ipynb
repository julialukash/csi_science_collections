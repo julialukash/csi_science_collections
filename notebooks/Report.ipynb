{
 "cells": [
  {
   "cell_type": "markdown",
   "metadata": {},
   "source": [
    "## PN_choose_model_100.ipynb\n",
    "Зафиксировано число тем = 100. Были поробованы разные модели, отобрано несколько моделей: \n",
    "* без регуляризатора\n",
    " * name = model_100_1, n_topics = 100, n_doc_passes = 5, seed_value = 100, n_iterations = 20, n_top_tokens = 15, p_threshold = 0.25\n",
    " * last_perplexity_score = 1065.4691168\n",
    " * last_sparsity_phi_score = 0.76290761491\n",
    " * last_sparsity_theta_score = 0.00162797446315\n",
    " * last_topic_kernel_avgsize = 155.89\n",
    " * last_topic_kernel_purity = 0.287688379533\n",
    " * last_topic_kernel_contrast = 0.468397835486\n",
    "* с регуляризаторами, хорошие показатели, но avg kernel size = 90\n",
    " * name = model_100_7, n_topics = 100, n_doc_passes = 5, seed_value = 100, n_iterations = 20, n_top_tokens = 15, p_threshold = 0.25, ss_theta_regularizer, tau = -0.5, decorrelator_phi_regularizer, tau = 10, ss_phi_regularizer, tau = -0.5\n",
    " * last_perplexity_score = 886.578272434\n",
    " * last_sparsity_phi_score = 0.979305968443\n",
    " * last_sparsity_theta_score = 0.769207777133\n",
    " * last_topic_kernel_avgsize = 89.23\n",
    " * last_topic_kernel_purity = 0.50039540324\n",
    " * last_topic_kernel_contrast = 0.728560167745\n",
    "* с регуляризаторами, хорошие показатели, примерно одинаковые, avg kernel size = 24\n",
    " * name = model_100_12, n_topics = 100, n_doc_passes = 5, seed_value = 100, n_iterations = 20, n_top_tokens = 15, p_threshold = 0.25, ss_theta_regularizer, tau = -0.5, decorrelator_phi_regularizer, tau = 10, ss_phi_regularizer, tau = -2\n",
    " * last_perplexity_score = 384.451799322\n",
    " * last_sparsity_phi_score = 0.994879373428\n",
    " * last_sparsity_theta_score = 0.74879280325\n",
    " * last_topic_kernel_avgsize = 23.68\n",
    " * last_topic_kernel_purity = 0.629848034538\n",
    " * last_topic_kernel_contrast = 0.776075642\n",
    "\n",
    "## PN_visualize_convex_hull_100_3models.ipynb\n",
    "Для выбранных моделей были посчитаны внутренние расстояния, посчитан функционал opt при выбрасывании одной темы.\n",
    "\n",
    "Выводы: самая отрегуляризованная модель (3) расстояние наибольшее, модель 1 - размазано расстояние.\n",
    "\n",
    "TODO: сравнить метрики расстояния\n",
    "## PN_model_to_ndw.ipynb\n",
    "Для 3х моделей.\n",
    "\n",
    "TODO: сравнить sample model без умножения на длину документа.\n",
    "## PN_ndw_to_batch.ipynb\n",
    "Для 3х моделей.\n",
    "\n",
    "# TODO\n",
    "Для каждого из созданного датасета:\n",
    "* создать несколько моделей, сравнить их (для начала можно выбрать 2 модели - без регуляризаторов и сильно разреженную)\n",
    "* стабильность: запустить много раз, посмотреть сколько новых тем с каждым разом; как определить новая ли тема? (перестановки и т.д) -> строим матрицу попарных расстояний (hemm) и по топ словам, пытаемся соотнести - порог, новая/не новая + почитать статьи\n",
    "* полнота: запускаем один раз, строим попарные расстояния внутренние, запускаем оптимизацию, смотрим расстояния, откидываем зависимые\n",
    "\n",
    "## PN_choose_model_20_sample-model123.ipynb\n",
    "Даже без регуляризаторов модели получаются с норм показателями (кроме ss theta и большой средний размер ядра) \n"
   ]
  }
 ],
 "metadata": {
  "anaconda-cloud": {},
  "kernelspec": {
   "display_name": "Python [default]",
   "language": "python",
   "name": "python2"
  },
  "language_info": {
   "codemirror_mode": {
    "name": "ipython",
    "version": 2
   },
   "file_extension": ".py",
   "mimetype": "text/x-python",
   "name": "python",
   "nbconvert_exporter": "python",
   "pygments_lexer": "ipython2",
   "version": "2.7.12"
  }
 },
 "nbformat": 4,
 "nbformat_minor": 2
}
