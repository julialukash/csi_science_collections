{
 "cells": [
  {
   "cell_type": "code",
   "execution_count": 4,
   "metadata": {
    "collapsed": false
   },
   "outputs": [
    {
     "name": "stdout",
     "output_type": "stream",
     "text": [
      "0.8.1\n"
     ]
    }
   ],
   "source": [
    "import pickle\n",
    "import sys\n",
    "import codecs\n",
    "import numpy as np\n",
    "import pandas as pd\n",
    "import seaborn as sns\n",
    "import artm\n",
    "print artm.version()\n",
    "\n",
    "from os import path, mkdir\n",
    "from datetime import datetime\n",
    "%matplotlib inline\n",
    "sys.path.insert(0, '..\\\\modules\\\\helpers')\n",
    "from plot_helper import PlotMaker\n",
    "from config_helper import ConfigPaths\n",
    "import print_helper as ph"
   ]
  },
  {
   "cell_type": "code",
   "execution_count": 5,
   "metadata": {
    "collapsed": false
   },
   "outputs": [
    {
     "name": "stdout",
     "output_type": "stream",
     "text": [
      "Q:\\\\topic_modeling\\\\csi_science_collections.git\\experiments\\UCI_filtered_ngramm_trimmed_without_names\\np_01_04_model_to_ndw\\models.txt\n",
      "Q:\\\\topic_modeling\\\\csi_science_collections.git\\..\\data\\postnauka\\UCI_collections\\UCI_filtered_ngramm_trimmed_without_names\n"
     ]
    }
   ],
   "source": [
    "config = ConfigPaths('config.cfg')\n",
    "plot_maker = PlotMaker()\n",
    "print config.models_file_name\n",
    "print config.dataset_path "
   ]
  },
  {
   "cell_type": "code",
   "execution_count": 11,
   "metadata": {
    "collapsed": false
   },
   "outputs": [],
   "source": [
    "def get_docs_lenths(_file_name):\n",
    "    with codecs.open(_file_name, 'r', 'utf-8') as fin:\n",
    "        # skip comment line\n",
    "        fin.readline()  \n",
    "        fin.readline()  \n",
    "        fin.readline()  \n",
    "        doc_len_counters = {}\n",
    "        for line in fin:\n",
    "            line_list = line.split(' ')\n",
    "            doc_idx = float(line_list[0])\n",
    "            val = float(line_list[2])\n",
    "            if not doc_len_counters.has_key(doc_idx):\n",
    "                doc_len_counters[doc_idx] = 0\n",
    "            doc_len_counters[doc_idx] += val\n",
    "    return doc_len_counters\n",
    "def save_pickle_file(dists, filename):\n",
    "    pickle_filename = path.join(config.experiment_path, filename)\n",
    "    pickle_file = open(pickle_filename, 'wb')\n",
    "    pickle.dump(dists, pickle_file)\n",
    "    pickle_file.close()\n",
    "def load_pickle_file(filename):\n",
    "    pickle_filename = path.join(config.experiment_path, filename)\n",
    "    pickle_file = open(pickle_filename, 'rb')\n",
    "    p_file = pickle.load(pickle_file)\n",
    "    pickle_file.close()\n",
    "    return p_file\n",
    "def save_model_pickle(_model_name, _model, _save=True):\n",
    "    phi = _model.get_phi()\n",
    "    phi = phi[(phi.T != 0).any()]\n",
    "    theta = _model.get_theta()    \n",
    "    saved_top_tokens = _model.score_tracker['top_tokens_score'].last_tokens\n",
    "    if _save:\n",
    "        save_pickle_file(phi, 'phi_{}.p'.format(_model_name))\n",
    "        save_pickle_file(theta, 'theta_{}.p'.format(_model_name))\n",
    "        save_pickle_file(saved_top_tokens, 'saved_top_tokens_{}.p'.format(_model_name))\n",
    "    return phi, theta, saved_top_tokens\n",
    "def load_model_pickle(_model_name, _distance_name):\n",
    "    phi = load_pickle_file('phi_{}.p'.format(_model_name))\n",
    "    theta = load_pickle_file('theta_{}.p'.format(_model_name))\n",
    "    distances = None\n",
    "    if _distance_name != None:\n",
    "        distances = load_pickle_file('{}.p'.format(_distance_name))\n",
    "    return phi, theta, distances\n",
    "def convert_to_vw(_nw, out_file):\n",
    "    with codecs.open(out_file, 'w', 'utf-8') as fout:\n",
    "        for idx, col in enumerate(_nw.columns):\n",
    "            if idx % 100 == 0:\n",
    "                print '[{}] processing column no {} of {}'.format(datetime.now(), idx, len(_nw.columns))\n",
    "            fout.write(u'doc_{} |@default_class '.format(col))\n",
    "            values = _nw[col]\n",
    "            for idx in values.index.values:\n",
    "                val = values[idx]\n",
    "                if val != 0:\n",
    "                    fout.write(u'{}:{} '.format(idx, val))\n",
    "            fout.write(u'\\n')\n",
    "def create_sample_dataset_multiply_doc_length(phi, theta, doc_lenths):\n",
    "    ndw = phi.dot(theta)\n",
    "    index = 0\n",
    "    for col in ndw.columns:\n",
    "        if index % 100 == 0:\n",
    "            print '[{}] processing {} column'.format(datetime.now(), index)\n",
    "        index += 1\n",
    "        ndw[col] = ndw[col] * doc_lenths[col]\n",
    "    return ndw\n",
    "def create_sample_dataset(phi, theta, doc_lenths):\n",
    "    ndw = phi.dot(theta)\n",
    "    return ndw"
   ]
  },
  {
   "cell_type": "code",
   "execution_count": 12,
   "metadata": {
    "collapsed": false
   },
   "outputs": [],
   "source": [
    "doc_len_counters = get_docs_lenths(path.join(config.dataset_path, 'docword.pn.txt'))\n",
    "phi1, theta1, _ = load_model_pickle('model1', None)\n",
    "phi2, theta2, _ = load_model_pickle('model2', None)\n",
    "phi3, theta3, _ = load_model_pickle('model3', None)"
   ]
  },
  {
   "cell_type": "code",
   "execution_count": 14,
   "metadata": {
    "collapsed": false
   },
   "outputs": [
    {
     "name": "stdout",
     "output_type": "stream",
     "text": [
      "(17492, 100) (8051, 100) (2216, 100)\n"
     ]
    }
   ],
   "source": [
    "print phi1.shape, phi2.shape, phi3.shape"
   ]
  },
  {
   "cell_type": "code",
   "execution_count": 9,
   "metadata": {
    "collapsed": false,
    "scrolled": true
   },
   "outputs": [
    {
     "name": "stdout",
     "output_type": "stream",
     "text": [
      "[2017-01-18 18:09:14.182000] processing 0 column\n",
      "[2017-01-18 18:09:32.636000] processing 100 column\n",
      "[2017-01-18 18:09:49.117000] processing 200 column\n",
      "[2017-01-18 18:10:06.488000] processing 300 column\n",
      "[2017-01-18 18:10:22.782000] processing 400 column\n",
      "[2017-01-18 18:10:38.955000] processing 500 column\n",
      "[2017-01-18 18:10:55.160000] processing 600 column\n",
      "[2017-01-18 18:11:09.700000] processing 700 column\n",
      "[2017-01-18 18:11:22.596000] processing 800 column\n",
      "[2017-01-18 18:11:35.037000] processing 900 column\n",
      "[2017-01-18 18:11:47.019000] processing 1000 column\n",
      "[2017-01-18 18:11:58.557000] processing 1100 column\n",
      "[2017-01-18 18:12:09.642000] processing 1200 column\n",
      "[2017-01-18 18:12:20.197000] processing 1300 column\n",
      "[2017-01-18 18:12:30.355000] processing 1400 column\n",
      "[2017-01-18 18:12:40.034000] processing 1500 column\n",
      "[2017-01-18 18:12:49.207000] processing 1600 column\n",
      "[2017-01-18 18:12:58.016000] processing 1700 column\n",
      "[2017-01-18 18:13:06.355000] processing 1800 column\n",
      "[2017-01-18 18:13:14.179000] processing 1900 column\n",
      "[2017-01-18 18:13:21.467000] processing 2000 column\n",
      "[2017-01-18 18:13:28.273000] processing 2100 column\n",
      "[2017-01-18 18:13:34.630000] processing 2200 column\n",
      "[2017-01-18 18:13:40.510000] processing 2300 column\n",
      "[2017-01-18 18:13:46.176000] processing 2400 column\n",
      "[2017-01-18 18:13:51.188000] processing 2500 column\n",
      "[2017-01-18 18:13:55.641000] processing 2600 column\n",
      "[2017-01-18 18:13:59.607000] processing 2700 column\n",
      "[2017-01-18 18:14:03.110000] processing 2800 column\n",
      "[2017-01-18 18:14:06.123000] processing 2900 column\n",
      "[2017-01-18 18:14:08.667000] processing 3000 column\n",
      "[2017-01-18 18:14:10.724000] processing 3100 column\n",
      "[2017-01-18 18:14:12.300000] processing 3200 column\n",
      "[2017-01-18 18:14:13.401000] processing 3300 column\n",
      "[2017-01-18 18:14:14.034000] processing 3400 column\n",
      "[2017-01-18 18:14:14.283000] processing 0 column\n",
      "[2017-01-18 18:14:14.405000] processing 100 column\n",
      "[2017-01-18 18:14:14.529000] processing 200 column\n",
      "[2017-01-18 18:14:14.657000] processing 300 column\n",
      "[2017-01-18 18:14:14.778000] processing 400 column\n",
      "[2017-01-18 18:14:14.890000] processing 500 column\n",
      "[2017-01-18 18:14:15.006000] processing 600 column\n",
      "[2017-01-18 18:14:15.125000] processing 700 column\n",
      "[2017-01-18 18:14:15.241000] processing 800 column\n",
      "[2017-01-18 18:14:15.357000] processing 900 column\n",
      "[2017-01-18 18:14:15.476000] processing 1000 column\n",
      "[2017-01-18 18:14:15.590000] processing 1100 column\n",
      "[2017-01-18 18:14:15.712000] processing 1200 column\n",
      "[2017-01-18 18:14:15.833000] processing 1300 column\n",
      "[2017-01-18 18:14:15.955000] processing 1400 column\n",
      "[2017-01-18 18:14:16.066000] processing 1500 column\n",
      "[2017-01-18 18:14:16.183000] processing 1600 column\n",
      "[2017-01-18 18:14:16.295000] processing 1700 column\n",
      "[2017-01-18 18:14:16.413000] processing 1800 column\n",
      "[2017-01-18 18:14:16.530000] processing 1900 column\n",
      "[2017-01-18 18:14:16.650000] processing 2000 column\n",
      "[2017-01-18 18:14:16.764000] processing 2100 column\n",
      "[2017-01-18 18:14:16.881000] processing 2200 column\n",
      "[2017-01-18 18:14:16.993000] processing 2300 column\n",
      "[2017-01-18 18:14:17.110000] processing 2400 column\n",
      "[2017-01-18 18:14:17.224000] processing 2500 column\n",
      "[2017-01-18 18:14:17.331000] processing 2600 column\n",
      "[2017-01-18 18:14:17.455000] processing 2700 column\n",
      "[2017-01-18 18:14:17.574000] processing 2800 column\n",
      "[2017-01-18 18:14:17.690000] processing 2900 column\n",
      "[2017-01-18 18:14:17.799000] processing 3000 column\n",
      "[2017-01-18 18:14:17.921000] processing 3100 column\n",
      "[2017-01-18 18:14:18.040000] processing 3200 column\n",
      "[2017-01-18 18:14:18.154000] processing 3300 column\n",
      "[2017-01-18 18:14:18.275000] processing 3400 column\n",
      "[2017-01-18 18:14:18.366000] processing 0 column\n",
      "[2017-01-18 18:14:18.468000] processing 100 column\n",
      "[2017-01-18 18:14:18.588000] processing 200 column\n",
      "[2017-01-18 18:14:18.695000] processing 300 column\n",
      "[2017-01-18 18:14:18.785000] processing 400 column\n",
      "[2017-01-18 18:14:18.898000] processing 500 column\n",
      "[2017-01-18 18:14:18.989000] processing 600 column\n",
      "[2017-01-18 18:14:19.078000] processing 700 column\n",
      "[2017-01-18 18:14:19.193000] processing 800 column\n",
      "[2017-01-18 18:14:19.285000] processing 900 column\n",
      "[2017-01-18 18:14:19.376000] processing 1000 column\n",
      "[2017-01-18 18:14:19.485000] processing 1100 column\n",
      "[2017-01-18 18:14:19.577000] processing 1200 column\n",
      "[2017-01-18 18:14:19.675000] processing 1300 column\n",
      "[2017-01-18 18:14:19.781000] processing 1400 column\n",
      "[2017-01-18 18:14:19.872000] processing 1500 column\n",
      "[2017-01-18 18:14:19.963000] processing 1600 column\n",
      "[2017-01-18 18:14:20.071000] processing 1700 column\n",
      "[2017-01-18 18:14:20.163000] processing 1800 column\n",
      "[2017-01-18 18:14:20.254000] processing 1900 column\n",
      "[2017-01-18 18:14:20.359000] processing 2000 column\n",
      "[2017-01-18 18:14:20.454000] processing 2100 column\n",
      "[2017-01-18 18:14:20.545000] processing 2200 column\n",
      "[2017-01-18 18:14:20.654000] processing 2300 column\n",
      "[2017-01-18 18:14:20.746000] processing 2400 column\n",
      "[2017-01-18 18:14:20.835000] processing 2500 column\n",
      "[2017-01-18 18:14:20.947000] processing 2600 column\n",
      "[2017-01-18 18:14:21.036000] processing 2700 column\n",
      "[2017-01-18 18:14:21.127000] processing 2800 column\n",
      "[2017-01-18 18:14:21.237000] processing 2900 column\n",
      "[2017-01-18 18:14:21.331000] processing 3000 column\n",
      "[2017-01-18 18:14:21.422000] processing 3100 column\n",
      "[2017-01-18 18:14:21.529000] processing 3200 column\n",
      "[2017-01-18 18:14:21.621000] processing 3300 column\n",
      "[2017-01-18 18:14:21.715000] processing 3400 column\n"
     ]
    }
   ],
   "source": [
    "ndw1 = create_sample_dataset_multiply_doc_length(phi1, theta1, doc_len_counters)\n",
    "ndw2 = create_sample_dataset_multiply_doc_length(phi2, theta2, doc_len_counters)\n",
    "ndw3 = create_sample_dataset_multiply_doc_length(phi3, theta3, doc_len_counters)"
   ]
  },
  {
   "cell_type": "code",
   "execution_count": null,
   "metadata": {
    "collapsed": true
   },
   "outputs": [],
   "source": [
    "ndw10 = create_sample_dataset(phi1, theta1, doc_len_counters)\n",
    "ndw20 = create_sample_dataset(phi2, theta2, doc_len_counters)\n",
    "ndw30 = create_sample_dataset(phi3, theta3, doc_len_counters)"
   ]
  },
  {
   "cell_type": "code",
   "execution_count": 10,
   "metadata": {
    "collapsed": false,
    "scrolled": true
   },
   "outputs": [
    {
     "name": "stdout",
     "output_type": "stream",
     "text": [
      "[2017-01-18 18:14:21.809000] processing column no 0 of 3446\n",
      "[2017-01-18 18:15:07.224000] processing column no 100 of 3446\n",
      "[2017-01-18 18:15:51.818000] processing column no 200 of 3446\n",
      "[2017-01-18 18:16:37.440000] processing column no 300 of 3446\n",
      "[2017-01-18 18:17:23.427000] processing column no 400 of 3446\n",
      "[2017-01-18 18:18:07.943000] processing column no 500 of 3446\n",
      "[2017-01-18 18:18:52.553000] processing column no 600 of 3446\n",
      "[2017-01-18 18:19:36.892000] processing column no 700 of 3446\n",
      "[2017-01-18 18:20:20.838000] processing column no 800 of 3446\n",
      "[2017-01-18 18:21:05.563000] processing column no 900 of 3446\n",
      "[2017-01-18 18:21:50.052000] processing column no 1000 of 3446\n",
      "[2017-01-18 18:22:34.108000] processing column no 1100 of 3446\n",
      "[2017-01-18 18:23:19.985000] processing column no 1200 of 3446\n",
      "[2017-01-18 18:24:04.088000] processing column no 1300 of 3446\n",
      "[2017-01-18 18:24:48.234000] processing column no 1400 of 3446\n",
      "[2017-01-18 18:25:32.232000] processing column no 1500 of 3446\n",
      "[2017-01-18 18:26:16.435000] processing column no 1600 of 3446\n",
      "[2017-01-18 18:27:00.309000] processing column no 1700 of 3446\n",
      "[2017-01-18 18:27:44.443000] processing column no 1800 of 3446\n",
      "[2017-01-18 18:28:28.378000] processing column no 1900 of 3446\n",
      "[2017-01-18 18:29:12.795000] processing column no 2000 of 3446\n",
      "[2017-01-18 18:29:56.878000] processing column no 2100 of 3446\n",
      "[2017-01-18 18:30:41.102000] processing column no 2200 of 3446\n",
      "[2017-01-18 18:31:25.474000] processing column no 2300 of 3446\n",
      "[2017-01-18 18:32:09.381000] processing column no 2400 of 3446\n",
      "[2017-01-18 18:32:53.907000] processing column no 2500 of 3446\n",
      "[2017-01-18 18:33:38.132000] processing column no 2600 of 3446\n",
      "[2017-01-18 18:34:22.576000] processing column no 2700 of 3446\n",
      "[2017-01-18 18:35:06.701000] processing column no 2800 of 3446\n",
      "[2017-01-18 18:35:50.777000] processing column no 2900 of 3446\n",
      "[2017-01-18 18:36:35.090000] processing column no 3000 of 3446\n",
      "[2017-01-18 18:37:19.205000] processing column no 3100 of 3446\n",
      "[2017-01-18 18:38:03.544000] processing column no 3200 of 3446\n",
      "[2017-01-18 18:38:47.901000] processing column no 3300 of 3446\n",
      "[2017-01-18 18:39:32.151000] processing column no 3400 of 3446\n",
      "[2017-01-18 18:39:52.398000] processing column no 0 of 3446\n",
      "[2017-01-18 18:40:13.364000] processing column no 100 of 3446\n",
      "[2017-01-18 18:40:33.578000] processing column no 200 of 3446\n",
      "[2017-01-18 18:40:54.232000] processing column no 300 of 3446\n",
      "[2017-01-18 18:41:15.669000] processing column no 400 of 3446\n",
      "[2017-01-18 18:41:36.329000] processing column no 500 of 3446\n",
      "[2017-01-18 18:41:56.648000] processing column no 600 of 3446\n",
      "[2017-01-18 18:42:17.506000] processing column no 700 of 3446\n",
      "[2017-01-18 18:42:38.247000] processing column no 800 of 3446\n",
      "[2017-01-18 18:42:59.268000] processing column no 900 of 3446\n",
      "[2017-01-18 18:43:20.060000] processing column no 1000 of 3446\n",
      "[2017-01-18 18:43:40.967000] processing column no 1100 of 3446\n",
      "[2017-01-18 18:44:02.617000] processing column no 1200 of 3446\n",
      "[2017-01-18 18:44:23.043000] processing column no 1300 of 3446\n",
      "[2017-01-18 18:44:43.974000] processing column no 1400 of 3446\n",
      "[2017-01-18 18:45:05.136000] processing column no 1500 of 3446\n",
      "[2017-01-18 18:45:25.735000] processing column no 1600 of 3446\n",
      "[2017-01-18 18:45:46.733000] processing column no 1700 of 3446\n",
      "[2017-01-18 18:46:07.454000] processing column no 1800 of 3446\n",
      "[2017-01-18 18:46:28.112000] processing column no 1900 of 3446\n",
      "[2017-01-18 18:46:48.762000] processing column no 2000 of 3446\n",
      "[2017-01-18 18:47:09.960000] processing column no 2100 of 3446\n",
      "[2017-01-18 18:47:30.861000] processing column no 2200 of 3446\n",
      "[2017-01-18 18:47:51.747000] processing column no 2300 of 3446\n",
      "[2017-01-18 18:48:12.955000] processing column no 2400 of 3446\n",
      "[2017-01-18 18:48:33.701000] processing column no 2500 of 3446\n",
      "[2017-01-18 18:48:54.203000] processing column no 2600 of 3446\n",
      "[2017-01-18 18:49:15.119000] processing column no 2700 of 3446\n",
      "[2017-01-18 18:49:35.926000] processing column no 2800 of 3446\n",
      "[2017-01-18 18:49:56.853000] processing column no 2900 of 3446\n",
      "[2017-01-18 18:50:17.656000] processing column no 3000 of 3446\n",
      "[2017-01-18 18:50:38.260000] processing column no 3100 of 3446\n",
      "[2017-01-18 18:50:59.302000] processing column no 3200 of 3446\n",
      "[2017-01-18 18:51:19.927000] processing column no 3300 of 3446\n",
      "[2017-01-18 18:51:40.566000] processing column no 3400 of 3446\n",
      "[2017-01-18 18:51:49.970000] processing column no 0 of 3446\n",
      "[2017-01-18 18:51:55.792000] processing column no 100 of 3446\n",
      "[2017-01-18 18:52:01.467000] processing column no 200 of 3446\n",
      "[2017-01-18 18:52:07.219000] processing column no 300 of 3446\n",
      "[2017-01-18 18:52:13.058000] processing column no 400 of 3446\n",
      "[2017-01-18 18:52:18.818000] processing column no 500 of 3446\n",
      "[2017-01-18 18:52:24.472000] processing column no 600 of 3446\n",
      "[2017-01-18 18:52:30.253000] processing column no 700 of 3446\n",
      "[2017-01-18 18:52:35.996000] processing column no 800 of 3446\n",
      "[2017-01-18 18:52:41.888000] processing column no 900 of 3446\n",
      "[2017-01-18 18:52:47.675000] processing column no 1000 of 3446\n",
      "[2017-01-18 18:52:53.489000] processing column no 1100 of 3446\n",
      "[2017-01-18 18:52:59.611000] processing column no 1200 of 3446\n",
      "[2017-01-18 18:53:05.604000] processing column no 1300 of 3446\n",
      "[2017-01-18 18:53:11.466000] processing column no 1400 of 3446\n",
      "[2017-01-18 18:53:17.290000] processing column no 1500 of 3446\n",
      "[2017-01-18 18:53:23.025000] processing column no 1600 of 3446\n",
      "[2017-01-18 18:53:28.897000] processing column no 1700 of 3446\n",
      "[2017-01-18 18:53:34.651000] processing column no 1800 of 3446\n",
      "[2017-01-18 18:53:40.467000] processing column no 1900 of 3446\n",
      "[2017-01-18 18:53:46.213000] processing column no 2000 of 3446\n",
      "[2017-01-18 18:53:52.056000] processing column no 2100 of 3446\n",
      "[2017-01-18 18:53:58.169000] processing column no 2200 of 3446\n",
      "[2017-01-18 18:54:03.985000] processing column no 2300 of 3446\n",
      "[2017-01-18 18:54:09.811000] processing column no 2400 of 3446\n",
      "[2017-01-18 18:54:15.633000] processing column no 2500 of 3446\n",
      "[2017-01-18 18:54:21.333000] processing column no 2600 of 3446\n",
      "[2017-01-18 18:54:27.040000] processing column no 2700 of 3446\n",
      "[2017-01-18 18:54:32.951000] processing column no 2800 of 3446\n",
      "[2017-01-18 18:54:38.766000] processing column no 2900 of 3446\n",
      "[2017-01-18 18:54:44.555000] processing column no 3000 of 3446\n",
      "[2017-01-18 18:54:50.283000] processing column no 3100 of 3446\n",
      "[2017-01-18 18:54:56.140000] processing column no 3200 of 3446\n",
      "[2017-01-18 18:55:02.010000] processing column no 3300 of 3446\n",
      "[2017-01-18 18:55:07.846000] processing column no 3400 of 3446\n"
     ]
    }
   ],
   "source": [
    "output_vw_path = path.join(config.home_dir, '..\\\\data\\postnauka\\\\UCI_collections', 'sample_model_ndw')\n",
    "if not path.exists(output_vw_path):\n",
    "    mkdir(output_vw_path)\n",
    "convert_to_vw(ndw1, path.join(output_vw_path, 'pn_model1.vw'))\n",
    "convert_to_vw(ndw2, path.join(output_vw_path, 'pn_model2.vw'))\n",
    "convert_to_vw(ndw3, path.join(output_vw_path, 'pn_model3.vw'))"
   ]
  },
  {
   "cell_type": "code",
   "execution_count": null,
   "metadata": {
    "collapsed": true
   },
   "outputs": [],
   "source": [
    "convert_to_vw(ndw2, path.join(output_vw_path, 'pn_model2.vw'))\n",
    "output_vw_path = path.join(config.home_dir, '..\\\\data\\postnauka\\\\UCI_collections', 'sample_model_ndw_pure')\n",
    "if not path.exists(output_vw_path):\n",
    "    mkdir(output_vw_path)\n",
    "convert_to_vw(ndw10, path.join(output_vw_path, 'pn_model1.vw'))\n",
    "convert_to_vw(ndw20, path.join(output_vw_path, 'pn_model2.vw'))\n",
    "convert_to_vw(ndw30, path.join(output_vw_path, 'pn_model3.vw'))"
   ]
  }
 ],
 "metadata": {
  "anaconda-cloud": {},
  "kernelspec": {
   "display_name": "Python [conda root]",
   "language": "python",
   "name": "conda-root-py"
  },
  "language_info": {
   "codemirror_mode": {
    "name": "ipython",
    "version": 2
   },
   "file_extension": ".py",
   "mimetype": "text/x-python",
   "name": "python",
   "nbconvert_exporter": "python",
   "pygments_lexer": "ipython2",
   "version": "2.7.13"
  }
 },
 "nbformat": 4,
 "nbformat_minor": 1
}
