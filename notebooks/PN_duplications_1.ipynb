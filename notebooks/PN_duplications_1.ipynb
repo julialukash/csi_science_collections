{
 "cells": [
  {
   "cell_type": "code",
   "execution_count": 64,
   "metadata": {
    "collapsed": false
   },
   "outputs": [
    {
     "name": "stdout",
     "output_type": "stream",
     "text": [
      "0.8.1\n"
     ]
    }
   ],
   "source": [
    "import sys\n",
    "import numpy as np\n",
    "import artm\n",
    "print artm.version()\n",
    "\n",
    "from os import path, mkdir\n",
    "from datetime import datetime\n",
    "%matplotlib inline\n",
    "sys.path.insert(0, '..\\\\modules\\\\helpers')\n",
    "from plot_helper import PlotMaker\n",
    "from config_helper import ConfigPaths\n",
    "from print_helper import PrintHelper\n",
    "from sklearn.decomposition import PCA"
   ]
  },
  {
   "cell_type": "code",
   "execution_count": 2,
   "metadata": {
    "collapsed": false
   },
   "outputs": [],
   "source": [
    "config = ConfigPaths('config.cfg')\n",
    "plot_maker = PlotMaker()\n",
    "printer = PrintHelper()"
   ]
  },
  {
   "cell_type": "code",
   "execution_count": 3,
   "metadata": {
    "collapsed": false
   },
   "outputs": [
    {
     "name": "stdout",
     "output_type": "stream",
     "text": [
      "Q:\\\\topic_modeling\\\\csi_science_collections.git\\experiments\\UCI_filtered_ngramm_trimmed_without_names\\25_11_decor\\models.txt\n"
     ]
    }
   ],
   "source": [
    "print config.models_file_name"
   ]
  },
  {
   "cell_type": "code",
   "execution_count": 4,
   "metadata": {
    "collapsed": true
   },
   "outputs": [],
   "source": [
    "models_file = open(config.models_file_name, 'a')"
   ]
  },
  {
   "cell_type": "code",
   "execution_count": 5,
   "metadata": {
    "collapsed": true
   },
   "outputs": [],
   "source": [
    "def create_model(current_dictionary, n_topics, n_doc_passes, seed_value, n_top_tokens, p_mass_threshold):    \n",
    "    print '[{}] creating model'.format(datetime.now())\n",
    "    model = artm.ARTM(num_topics=n_topics, dictionary=current_dictionary, cache_theta=True, seed=seed_value, \n",
    "                  class_ids={'ngramm': 1.0, 'author_id': 0.0, 'author': 0.0, \n",
    "                             'post_tag': 0.0, 'projects': 0.0, 'category': 0.0,\n",
    "                             'following_users': 0.0})\n",
    "    model.num_document_passes = n_doc_passes\n",
    "    add_scores_to_model(model, n_top_tokens=n_top_tokens, p_mass_threshold=p_mass_threshold)\n",
    "    return model\n",
    "\n",
    "\n",
    "def add_scores_to_model(artm_model, n_top_tokens, p_mass_threshold):\n",
    "    print '[{}] adding scores'.format(datetime.now())\n",
    "    artm_model.scores.add(artm.PerplexityScore(name='perplexity_score',\n",
    "                                      use_unigram_document_model=False,\n",
    "                                      dictionary=dictionary))\n",
    "    artm_model.scores.add(artm.SparsityPhiScore(name='sparsity_phi_score', class_id='ngramm'))\n",
    "    artm_model.scores.add(artm.SparsityThetaScore(name='sparsity_theta_score'))\n",
    "    artm_model.scores.add(artm.TopicKernelScore(name='topic_kernel_score', class_id='ngramm', \n",
    "                                                probability_mass_threshold=p_mass_threshold))\n",
    "    artm_model.scores.add(artm.TopTokensScore(name='top_tokens_score', class_id='ngramm', num_tokens=n_top_tokens))"
   ]
  },
  {
   "cell_type": "code",
   "execution_count": 6,
   "metadata": {
    "collapsed": true
   },
   "outputs": [],
   "source": [
    "def process_one_model(dictionary, _n_topics, _n_doc_passes, _seed_value, _n_top_tokens, _p_mass_threshold, _n_iterations,\n",
    "                     _model_name=''):\n",
    "    print '[{}] processing model'.format(datetime.now())\n",
    "    model = create_model(current_dictionary=dictionary, n_topics=_n_topics, n_doc_passes=_n_doc_passes, seed_value=_seed_value,\n",
    "                         n_top_tokens=_n_top_tokens, p_mass_threshold=_p_mass_threshold)\n",
    "    model = fit_one_model(model, _n_iterations, _model_name)\n",
    "    return model\n",
    "    \n",
    "def fit_one_model(model, _n_iterations, _model_name=''): \n",
    "    print '[{}] fitting'.format(datetime.now())\n",
    "    model.fit_offline(batch_vectorizer=batch_vectorizer, num_collection_passes=_n_iterations)\n",
    "    print '[{}] outputting'.format(datetime.now())\n",
    "    printer.print_artm_model(model, _model_name, _n_iterations, output_file=models_file)\n",
    "    model_pics_file_name =  path.join(config.experiment_path, _model_name)\n",
    "    plot_maker.make_tm_plots(model, model_pics_file_name)\n",
    "    model_output_file_name = path.join(config.experiment_path, _model_name + '.txt')\n",
    "    printer.print_scores(model, _model_name, _n_iterations, model_output_file_name)\n",
    "    printer.print_top_tokens(model, model_output_file_name)\n",
    "    return model"
   ]
  },
  {
   "cell_type": "code",
   "execution_count": 7,
   "metadata": {
    "collapsed": true
   },
   "outputs": [],
   "source": [
    "def save_model(_model, _model_name): \n",
    "    print '[{}] saving model'.format(datetime.now())\n",
    "    model_output_file_name = path.join(config.models_archive_path, _model_name)\n",
    "    _model.save(filename=model_output_file_name+'_saved_p_wt', model_name=_model_name+'p_wt')\n",
    "    _model.save(filename=model_output_file_name+'_saved_n_wt', model_name=_model_name+'n_wt')"
   ]
  },
  {
   "cell_type": "code",
   "execution_count": null,
   "metadata": {
    "collapsed": false
   },
   "outputs": [],
   "source": [
    "batch_vectorizer = artm.BatchVectorizer(data_path=config.dataset_path,\n",
    "                                        data_format='bow_uci',\n",
    "                                        collection_name=config.collection_name,\n",
    "                                        target_folder=config.output_batches_path)\n",
    "dictionary = artm.Dictionary()\n",
    "dictionary.gather(data_path=config.output_batches_path,\n",
    "                  vocab_file_path=config.vocabulary_path)\n",
    "dictionary.save(dictionary_path=config.dictionary_path)\n",
    "dictionary.save_text(dictionary_path=config.dictionary_path + '.txt')\n",
    "dictionary.load_text(dictionary_path=config.dictionary_path + '.txt')"
   ]
  },
  {
   "cell_type": "code",
   "execution_count": 8,
   "metadata": {
    "collapsed": false
   },
   "outputs": [],
   "source": [
    "batch_vectorizer = artm.BatchVectorizer(data_path=config.output_batches_path,\n",
    "                                        data_format='batches')\n",
    "dictionary = artm.Dictionary()\n",
    "dictionary.load(dictionary_path=config.dictionary_path + '.dict')"
   ]
  },
  {
   "cell_type": "code",
   "execution_count": null,
   "metadata": {
    "collapsed": true
   },
   "outputs": [],
   "source": [
    "# dictionary.filter(min_tf=5, max_tf=2000, min_df_rate=0.01, max_df_rate=0.9)"
   ]
  },
  {
   "cell_type": "code",
   "execution_count": null,
   "metadata": {
    "collapsed": true
   },
   "outputs": [],
   "source": [
    "# простая модель без регуляризаторов \n",
    "# темы вроде нормаьльные, возможно в некоторых темах странные слова-выбросы (18)"
   ]
  },
  {
   "cell_type": "code",
   "execution_count": null,
   "metadata": {
    "collapsed": false
   },
   "outputs": [],
   "source": [
    "model_no_reg2000_5 = create_model(current_dictionary=dictionary, n_topics=2000, n_doc_passes=5, seed_value=100,\n",
    "                            n_top_tokens=15, p_mass_threshold=0.25)\n",
    "model_no_reg2000_5 = fit_one_model(model_no_reg2000_5, _n_iterations=25, _model_name='model_no_reg2000_5')"
   ]
  },
  {
   "cell_type": "code",
   "execution_count": null,
   "metadata": {
    "collapsed": true
   },
   "outputs": [],
   "source": [
    "# модель c sparse регуляризаторами "
   ]
  },
  {
   "cell_type": "code",
   "execution_count": 9,
   "metadata": {
    "collapsed": false
   },
   "outputs": [
    {
     "name": "stdout",
     "output_type": "stream",
     "text": [
      "[2016-11-25 15:07:08.806000] creating model\n",
      "[2016-11-25 15:07:15.104000] adding scores\n",
      "[2016-11-25 15:07:15.309000] fitting\n",
      "[2016-11-25 15:22:56.268000] outputting\n",
      "name = model_sparse_reg_1, n_topics = 2000, n_doc_passes = 5, seed_value = 100, n_iterations = 25, n_top_tokens = 15, p_threshold = 0.25\n",
      "\n",
      "[2016-11-25 15:24:11.561000] fitting\n",
      "[2016-11-25 15:37:05.276000] outputting\n",
      "name = model_sparse_reg_1, n_topics = 2000, n_doc_passes = 5, seed_value = 100, n_iterations = 20, n_top_tokens = 15, p_threshold = 0.25\n",
      "sparse_theta_regularizer, tau = -0.5\n",
      "sparse_phi_regularizer, tau = -0.5\n",
      "\n"
     ]
    }
   ],
   "source": [
    "tmp_model = create_model(current_dictionary=dictionary, n_topics=2000, n_doc_passes=5, seed_value=100,\n",
    "                            n_top_tokens=15, p_mass_threshold=0.25)\n",
    "tmp_model = fit_one_model(tmp_model, _n_iterations=25, _model_name='model_sparse_reg_1')\n",
    "tmp_model.regularizers.add(artm.SmoothSparsePhiRegularizer(name='sparse_phi_regularizer', class_ids=['ngramm']))\n",
    "tmp_model.regularizers.add(artm.SmoothSparseThetaRegularizer(name='sparse_theta_regularizer'))\n",
    "tmp_model.regularizers['sparse_phi_regularizer'].tau = -0.5\n",
    "tmp_model.regularizers['sparse_theta_regularizer'].tau = -0.5\n",
    "tmp_model = fit_one_model(tmp_model, _n_iterations=20, _model_name='model_sparse_reg_1')\n",
    "model_sparse_reg_1 = tmp_model; tmp_model = None"
   ]
  },
  {
   "cell_type": "code",
   "execution_count": null,
   "metadata": {
    "collapsed": false
   },
   "outputs": [],
   "source": [
    "tmp_model = create_model(current_dictionary=dictionary, n_topics=2000, n_doc_passes=5, seed_value=100,\n",
    "                         n_top_tokens=15, p_mass_threshold=0.25)\n",
    "tmp_model.regularizers.add(artm.SmoothSparseThetaRegularizer(name='sparse_theta_regularizer'))\n",
    "tmp_model.regularizers['sparse_theta_regularizer'].tau = -0.5\n",
    "tmp_model = fit_one_model(tmp_model, _n_iterations=15, _model_name='model_decor_sparse_t_reg_2')\n",
    "model_decor_sparse_t_reg_2 = tmp_model; tmp_model = None"
   ]
  },
  {
   "cell_type": "code",
   "execution_count": 10,
   "metadata": {
    "collapsed": false
   },
   "outputs": [
    {
     "name": "stdout",
     "output_type": "stream",
     "text": [
      "                      topic_0  topic_1   topic_2   topic_3   topic_4  \\\n",
      "книги                     0.0      0.0  0.000000  0.000000  0.000000   \n",
      "fuchs                     0.0      0.0  0.000000  0.000000  0.000000   \n",
      "preobrazhensky            0.0      0.0  0.000000  0.000000  0.000000   \n",
      "tabachnikov               0.0      0.0  0.000000  0.000000  0.000000   \n",
      "автограф                  0.0      0.0  0.000000  0.000000  0.000000   \n",
      "автор                     0.0      0.0  0.000000  0.000000  0.000000   \n",
      "кейс                      0.0      0.0  0.000000  0.000000  0.000000   \n",
      "математика                0.0      0.0  0.000000  0.000000  0.000000   \n",
      "образование               0.0      0.0  0.000785  0.000000  0.000000   \n",
      "красота                   0.0      0.0  0.000000  0.000000  0.000000   \n",
      "книга                     0.0      0.0  0.000000  0.000000  0.000000   \n",
      "университетский_курс      0.0      0.0  0.000000  0.000000  0.000000   \n",
      "дорога                    0.0      0.0  0.000000  0.000000  0.000000   \n",
      "проблема                  0.0      0.0  0.000000  0.000000  0.000000   \n",
      "задача                    0.0      0.0  0.000000  0.000000  0.000000   \n",
      "лекция                    0.0      0.0  0.000800  0.000000  0.000000   \n",
      "вопрос                    0.0      0.0  0.000000  0.004776  0.016038   \n",
      "экзамен                   0.0      0.0  0.000000  0.000000  0.000000   \n",
      "фонд                      0.0      0.0  0.000000  0.000000  0.000000   \n",
      "культура                  0.0      0.0  0.000000  0.000000  0.000000   \n",
      "интервью                  0.0      0.0  0.000000  0.000000  0.000000   \n",
      "дмитрия                   0.0      0.0  0.000000  0.000000  0.000000   \n",
      "полка                     0.0      0.0  0.000000  0.000000  0.000000   \n",
      "замысел                   0.0      0.0  0.000000  0.000000  0.000000   \n",
      "америка                   0.0      0.0  0.000000  0.000000  0.000000   \n",
      "журнал                    0.0      0.0  0.000000  0.003778  0.000000   \n",
      "квант                     0.0      0.0  0.000000  0.000000  0.000000   \n",
      "отдел                     0.0      0.0  0.000000  0.000000  0.000000   \n",
      "конец                     0.0      0.0  0.000000  0.002200  0.000000   \n",
      "работа                    0.0      0.0  0.026150  0.005095  0.000000   \n",
      "...                       ...      ...       ...       ...       ...   \n",
      "levkievskaya              0.0      0.0  0.000000  0.000000  0.000000   \n",
      "landsburg                 0.0      0.0  0.000000  0.000000  0.000000   \n",
      "frankwilczek              0.0      0.0  0.000000  0.000000  0.000000   \n",
      "kirillov                  0.0      0.0  0.000000  0.000000  0.000000   \n",
      "konstantinovky            0.0      0.0  0.000000  0.000000  0.000000   \n",
      "johannisson               0.0      0.0  0.000000  0.000000  0.000000   \n",
      "frith                     0.0      0.0  0.000000  0.000000  0.000000   \n",
      "ryazanov                  0.0      0.0  0.000000  0.000000  0.000000   \n",
      "ionov                     0.0      0.0  0.000000  0.000000  0.000000   \n",
      "vlachos                   0.0      0.0  0.000000  0.000000  0.000000   \n",
      "gilliham                  0.0      0.0  0.000000  0.000000  0.000000   \n",
      "carroll                   0.0      0.0  0.000000  0.000000  0.000000   \n",
      "aureli                    0.0      0.0  0.000000  0.000000  0.000000   \n",
      "campbell                  0.0      0.0  0.000000  0.000000  0.000000   \n",
      "vaiskopf                  0.0      0.0  0.000000  0.000000  0.000000   \n",
      "nathov                    0.0      0.0  0.000000  0.000000  0.000000   \n",
      "usov                      0.0      0.0  0.000000  0.000000  0.000000   \n",
      "zhizan                    0.0      0.0  0.000000  0.000000  0.000000   \n",
      "krasikova                 0.0      0.0  0.000000  0.000000  0.000000   \n",
      "urbinati                  0.0      0.0  0.000000  0.000000  0.000000   \n",
      "yurchak                   0.0      0.0  0.000000  0.000000  0.000000   \n",
      "a_shubin                  0.0      0.0  0.000000  0.000000  0.000000   \n",
      "huppert                   0.0      0.0  0.000000  0.000000  0.000000   \n",
      "lavrenchuk                0.0      0.0  0.000000  0.000000  0.000000   \n",
      "khrapko                   0.0      0.0  0.000000  0.000000  0.000000   \n",
      "sultanov                  0.0      0.0  0.000000  0.000000  0.000000   \n",
      "johnson                   0.0      0.0  0.000000  0.000000  0.000000   \n",
      "sorokina                  0.0      0.0  0.000000  0.000000  0.000000   \n",
      "morozov_o                 0.0      0.0  0.000000  0.000000  0.000000   \n",
      "polonsky                  0.0      0.0  0.000000  0.000000  0.000000   \n",
      "\n",
      "                       topic_5   topic_6  topic_7   topic_8   topic_9  \\\n",
      "книги                 0.000000  0.000000      0.0  0.000000  0.000000   \n",
      "fuchs                 0.000000  0.000000      0.0  0.000000  0.000000   \n",
      "preobrazhensky        0.000000  0.000000      0.0  0.000000  0.000000   \n",
      "tabachnikov           0.000000  0.000000      0.0  0.000000  0.000000   \n",
      "автограф              0.000000  0.000000      0.0  0.000000  0.002212   \n",
      "автор                 0.000000  0.000000      0.0  0.000000  0.000000   \n",
      "кейс                  0.000000  0.000000      0.0  0.000000  0.000000   \n",
      "математика            0.000000  0.000000      0.0  0.000000  0.015639   \n",
      "образование           0.000000  0.000000      0.0  0.000000  0.000000   \n",
      "красота               0.000847  0.000000      0.0  0.000000  0.000000   \n",
      "книга                 0.000000  0.000000      0.0  0.000000  0.000000   \n",
      "университетский_курс  0.000000  0.002169      0.0  0.000000  0.000000   \n",
      "дорога                0.004234  0.000000      0.0  0.000000  0.000000   \n",
      "проблема              0.014390  0.000000      0.0  0.002576  0.000000   \n",
      "задача                0.000000  0.034919      0.0  0.000000  0.000000   \n",
      "лекция                0.000000  0.000000      0.0  0.000000  0.000000   \n",
      "вопрос                0.000888  0.000000      0.0  0.004588  0.000000   \n",
      "экзамен               0.000000  0.000000      0.0  0.000000  0.000000   \n",
      "фонд                  0.000000  0.000000      0.0  0.000000  0.000000   \n",
      "культура              0.000000  0.000000      0.0  0.000000  0.000000   \n",
      "интервью              0.000000  0.000000      0.0  0.000000  0.006760   \n",
      "дмитрия               0.000000  0.000000      0.0  0.000000  0.000000   \n",
      "полка                 0.000000  0.000000      0.0  0.000000  0.000000   \n",
      "замысел               0.002539  0.000000      0.0  0.000000  0.000000   \n",
      "америка               0.000000  0.000000      0.0  0.000000  0.000000   \n",
      "журнал                0.000000  0.000000      0.0  0.000000  0.000000   \n",
      "квант                 0.000000  0.000000      0.0  0.000000  0.000000   \n",
      "отдел                 0.000000  0.000000      0.0  0.000000  0.000000   \n",
      "конец                 0.000000  0.000000      0.0  0.000000  0.000000   \n",
      "работа                0.000000  0.000000      0.0  0.000000  0.000000   \n",
      "...                        ...       ...      ...       ...       ...   \n",
      "levkievskaya          0.000000  0.000000      0.0  0.000000  0.000000   \n",
      "landsburg             0.000000  0.000000      0.0  0.000000  0.000000   \n",
      "frankwilczek          0.000000  0.000000      0.0  0.000000  0.000000   \n",
      "kirillov              0.000000  0.000000      0.0  0.000000  0.000000   \n",
      "konstantinovky        0.000000  0.000000      0.0  0.000000  0.000000   \n",
      "johannisson           0.000000  0.000000      0.0  0.000000  0.000000   \n",
      "frith                 0.000000  0.000000      0.0  0.000000  0.000000   \n",
      "ryazanov              0.000000  0.000000      0.0  0.000000  0.000000   \n",
      "ionov                 0.000000  0.000000      0.0  0.000000  0.000000   \n",
      "vlachos               0.000000  0.000000      0.0  0.000000  0.000000   \n",
      "gilliham              0.000000  0.000000      0.0  0.000000  0.000000   \n",
      "carroll               0.000000  0.000000      0.0  0.000000  0.000000   \n",
      "aureli                0.000000  0.000000      0.0  0.000000  0.000000   \n",
      "campbell              0.000000  0.000000      0.0  0.000000  0.000000   \n",
      "vaiskopf              0.000000  0.000000      0.0  0.000000  0.000000   \n",
      "nathov                0.000000  0.000000      0.0  0.000000  0.000000   \n",
      "usov                  0.000000  0.000000      0.0  0.000000  0.000000   \n",
      "zhizan                0.000000  0.000000      0.0  0.000000  0.000000   \n",
      "krasikova             0.000000  0.000000      0.0  0.000000  0.000000   \n",
      "urbinati              0.000000  0.000000      0.0  0.000000  0.000000   \n",
      "yurchak               0.000000  0.000000      0.0  0.000000  0.000000   \n",
      "a_shubin              0.000000  0.000000      0.0  0.000000  0.000000   \n",
      "huppert               0.000000  0.000000      0.0  0.000000  0.000000   \n",
      "lavrenchuk            0.000000  0.000000      0.0  0.000000  0.000000   \n",
      "khrapko               0.000000  0.000000      0.0  0.000000  0.000000   \n",
      "sultanov              0.000000  0.000000      0.0  0.000000  0.000000   \n",
      "johnson               0.000000  0.000000      0.0  0.000000  0.000000   \n",
      "sorokina              0.000000  0.000000      0.0  0.000000  0.000000   \n",
      "morozov_o             0.000000  0.000000      0.0  0.000000  0.000000   \n",
      "polonsky              0.000000  0.000000      0.0  0.000000  0.000000   \n",
      "\n",
      "                         ...      topic_1990  topic_1991  topic_1992  \\\n",
      "книги                    ...        0.000000         0.0         0.0   \n",
      "fuchs                    ...        0.000000         0.0         0.0   \n",
      "preobrazhensky           ...        0.000000         0.0         0.0   \n",
      "tabachnikov              ...        0.000000         0.0         0.0   \n",
      "автограф                 ...        0.000000         0.0         0.0   \n",
      "автор                    ...        0.000000         0.0         0.0   \n",
      "кейс                     ...        0.000000         0.0         0.0   \n",
      "математика               ...        0.000000         0.0         0.0   \n",
      "образование              ...        0.000000         0.0         0.0   \n",
      "красота                  ...        0.000000         0.0         0.0   \n",
      "книга                    ...        0.000000         0.0         0.0   \n",
      "университетский_курс     ...        0.000000         0.0         0.0   \n",
      "дорога                   ...        0.000000         0.0         0.0   \n",
      "проблема                 ...        0.012719         0.0         0.0   \n",
      "задача                   ...        0.000000         0.0         0.0   \n",
      "лекция                   ...        0.000000         0.0         0.0   \n",
      "вопрос                   ...        0.024647         0.0         0.0   \n",
      "экзамен                  ...        0.000000         0.0         0.0   \n",
      "фонд                     ...        0.001388         0.0         0.0   \n",
      "культура                 ...        0.000000         0.0         0.0   \n",
      "интервью                 ...        0.000000         0.0         0.0   \n",
      "дмитрия                  ...        0.000000         0.0         0.0   \n",
      "полка                    ...        0.000000         0.0         0.0   \n",
      "замысел                  ...        0.000000         0.0         0.0   \n",
      "америка                  ...        0.000000         0.0         0.0   \n",
      "журнал                   ...        0.000000         0.0         0.0   \n",
      "квант                    ...        0.000000         0.0         0.0   \n",
      "отдел                    ...        0.000000         0.0         0.0   \n",
      "конец                    ...        0.000000         0.0         0.0   \n",
      "работа                   ...        0.000000         0.0         0.0   \n",
      "...                      ...             ...         ...         ...   \n",
      "levkievskaya             ...        0.000000         0.0         0.0   \n",
      "landsburg                ...        0.000000         0.0         0.0   \n",
      "frankwilczek             ...        0.000000         0.0         0.0   \n",
      "kirillov                 ...        0.000000         0.0         0.0   \n",
      "konstantinovky           ...        0.000000         0.0         0.0   \n",
      "johannisson              ...        0.000000         0.0         0.0   \n",
      "frith                    ...        0.000000         0.0         0.0   \n",
      "ryazanov                 ...        0.000000         0.0         0.0   \n",
      "ionov                    ...        0.000000         0.0         0.0   \n",
      "vlachos                  ...        0.000000         0.0         0.0   \n",
      "gilliham                 ...        0.000000         0.0         0.0   \n",
      "carroll                  ...        0.000000         0.0         0.0   \n",
      "aureli                   ...        0.000000         0.0         0.0   \n",
      "campbell                 ...        0.000000         0.0         0.0   \n",
      "vaiskopf                 ...        0.000000         0.0         0.0   \n",
      "nathov                   ...        0.000000         0.0         0.0   \n",
      "usov                     ...        0.000000         0.0         0.0   \n",
      "zhizan                   ...        0.000000         0.0         0.0   \n",
      "krasikova                ...        0.000000         0.0         0.0   \n",
      "urbinati                 ...        0.000000         0.0         0.0   \n",
      "yurchak                  ...        0.000000         0.0         0.0   \n",
      "a_shubin                 ...        0.000000         0.0         0.0   \n",
      "huppert                  ...        0.000000         0.0         0.0   \n",
      "lavrenchuk               ...        0.000000         0.0         0.0   \n",
      "khrapko                  ...        0.000000         0.0         0.0   \n",
      "sultanov                 ...        0.000000         0.0         0.0   \n",
      "johnson                  ...        0.000000         0.0         0.0   \n",
      "sorokina                 ...        0.000000         0.0         0.0   \n",
      "morozov_o                ...        0.000000         0.0         0.0   \n",
      "polonsky                 ...        0.000000         0.0         0.0   \n",
      "\n",
      "                      topic_1993  topic_1994  topic_1995  topic_1996  \\\n",
      "книги                        0.0    0.000000    0.000000    0.000000   \n",
      "fuchs                        0.0    0.000000    0.000000    0.000000   \n",
      "preobrazhensky               0.0    0.000000    0.000000    0.000000   \n",
      "tabachnikov                  0.0    0.000000    0.000000    0.000000   \n",
      "автограф                     0.0    0.000000    0.000000    0.000000   \n",
      "автор                        0.0    0.000000    0.000000    0.006644   \n",
      "кейс                         0.0    0.000000    0.000000    0.000000   \n",
      "математика                   0.0    0.000000    0.000000    0.000000   \n",
      "образование                  0.0    0.000000    0.000000    0.000000   \n",
      "красота                      0.0    0.000000    0.000000    0.000000   \n",
      "книга                        0.0    0.001122    0.005022    0.003051   \n",
      "университетский_курс         0.0    0.000000    0.000000    0.000000   \n",
      "дорога                       0.0    0.000000    0.000000    0.000000   \n",
      "проблема                     0.0    0.000000    0.000000    0.000000   \n",
      "задача                       0.0    0.000000    0.000000    0.000000   \n",
      "лекция                       0.0    0.000000    0.000000    0.002411   \n",
      "вопрос                       0.0    0.000000    0.000000    0.000000   \n",
      "экзамен                      0.0    0.000000    0.000000    0.000000   \n",
      "фонд                         0.0    0.000000    0.000000    0.000000   \n",
      "культура                     0.0    0.000000    0.000000    0.000000   \n",
      "интервью                     0.0    0.000000    0.000000    0.000785   \n",
      "дмитрия                      0.0    0.000000    0.000000    0.000000   \n",
      "полка                        0.0    0.000000    0.000000    0.000000   \n",
      "замысел                      0.0    0.000000    0.000000    0.000000   \n",
      "америка                      0.0    0.000000    0.000000    0.000000   \n",
      "журнал                       0.0    0.000000    0.000000    0.000000   \n",
      "квант                        0.0    0.000000    0.000000    0.000000   \n",
      "отдел                        0.0    0.000000    0.000000    0.000000   \n",
      "конец                        0.0    0.000000    0.005581    0.000000   \n",
      "работа                       0.0    0.016512    0.001880    0.003787   \n",
      "...                          ...         ...         ...         ...   \n",
      "levkievskaya                 0.0    0.000000    0.000000    0.000000   \n",
      "landsburg                    0.0    0.000000    0.000000    0.000000   \n",
      "frankwilczek                 0.0    0.000000    0.000000    0.000000   \n",
      "kirillov                     0.0    0.000000    0.000000    0.000000   \n",
      "konstantinovky               0.0    0.000000    0.000000    0.000000   \n",
      "johannisson                  0.0    0.000000    0.000000    0.000000   \n",
      "frith                        0.0    0.000000    0.000000    0.000000   \n",
      "ryazanov                     0.0    0.000000    0.000000    0.000000   \n",
      "ionov                        0.0    0.000000    0.000000    0.000000   \n",
      "vlachos                      0.0    0.000000    0.000000    0.000000   \n",
      "gilliham                     0.0    0.000000    0.000000    0.000000   \n",
      "carroll                      0.0    0.000000    0.000000    0.000000   \n",
      "aureli                       0.0    0.000000    0.000000    0.000000   \n",
      "campbell                     0.0    0.000000    0.000000    0.000000   \n",
      "vaiskopf                     0.0    0.000000    0.000000    0.000000   \n",
      "nathov                       0.0    0.000000    0.000000    0.000000   \n",
      "usov                         0.0    0.000000    0.000000    0.000000   \n",
      "zhizan                       0.0    0.000000    0.000000    0.000000   \n",
      "krasikova                    0.0    0.000000    0.000000    0.000000   \n",
      "urbinati                     0.0    0.000000    0.000000    0.000000   \n",
      "yurchak                      0.0    0.000000    0.000000    0.000000   \n",
      "a_shubin                     0.0    0.000000    0.000000    0.000000   \n",
      "huppert                      0.0    0.000000    0.000000    0.000000   \n",
      "lavrenchuk                   0.0    0.000000    0.000000    0.000000   \n",
      "khrapko                      0.0    0.000000    0.000000    0.000000   \n",
      "sultanov                     0.0    0.000000    0.000000    0.000000   \n",
      "johnson                      0.0    0.000000    0.000000    0.000000   \n",
      "sorokina                     0.0    0.000000    0.000000    0.000000   \n",
      "morozov_o                    0.0    0.000000    0.000000    0.000000   \n",
      "polonsky                     0.0    0.000000    0.000000    0.000000   \n",
      "\n",
      "                      topic_1997  topic_1998  topic_1999  \n",
      "книги                   0.000000    0.000000         0.0  \n",
      "fuchs                   0.000000    0.000000         0.0  \n",
      "preobrazhensky          0.000000    0.000000         0.0  \n",
      "tabachnikov             0.000000    0.000000         0.0  \n",
      "автограф                0.000000    0.000000         0.0  \n",
      "автор                   0.021867    0.033790         0.0  \n",
      "кейс                    0.000000    0.000000         0.0  \n",
      "математика              0.000000    0.000000         0.0  \n",
      "образование             0.000000    0.000000         0.0  \n",
      "красота                 0.000000    0.000000         0.0  \n",
      "книга                   0.000000    0.039355         0.0  \n",
      "университетский_курс    0.000000    0.000000         0.0  \n",
      "дорога                  0.000000    0.000000         0.0  \n",
      "проблема                0.000000    0.005955         0.0  \n",
      "задача                  0.000000    0.002046         0.0  \n",
      "лекция                  0.000000    0.000000         0.0  \n",
      "вопрос                  0.000000    0.012647         0.0  \n",
      "экзамен                 0.000000    0.001902         0.0  \n",
      "фонд                    0.000000    0.000000         0.0  \n",
      "культура                0.000000    0.000000         0.0  \n",
      "интервью                0.000000    0.000000         0.0  \n",
      "дмитрия                 0.000000    0.000000         0.0  \n",
      "полка                   0.000000    0.000000         0.0  \n",
      "замысел                 0.000000    0.009492         0.0  \n",
      "америка                 0.000000    0.000000         0.0  \n",
      "журнал                  0.000000    0.000000         0.0  \n",
      "квант                   0.000000    0.000000         0.0  \n",
      "отдел                   0.000000    0.000000         0.0  \n",
      "конец                   0.000000    0.003065         0.0  \n",
      "работа                  0.000000    0.022555         0.0  \n",
      "...                          ...         ...         ...  \n",
      "levkievskaya            0.000000    0.000000         0.0  \n",
      "landsburg               0.000000    0.000000         0.0  \n",
      "frankwilczek            0.000000    0.000000         0.0  \n",
      "kirillov                0.000000    0.000000         0.0  \n",
      "konstantinovky          0.000000    0.000000         0.0  \n",
      "johannisson             0.000000    0.000000         0.0  \n",
      "frith                   0.000000    0.000000         0.0  \n",
      "ryazanov                0.000000    0.000000         0.0  \n",
      "ionov                   0.000000    0.000000         0.0  \n",
      "vlachos                 0.000000    0.000000         0.0  \n",
      "gilliham                0.000000    0.000000         0.0  \n",
      "carroll                 0.000000    0.000000         0.0  \n",
      "aureli                  0.000000    0.000000         0.0  \n",
      "campbell                0.000000    0.000000         0.0  \n",
      "vaiskopf                0.000000    0.000000         0.0  \n",
      "nathov                  0.000000    0.000000         0.0  \n",
      "usov                    0.000000    0.000000         0.0  \n",
      "zhizan                  0.000000    0.000000         0.0  \n",
      "krasikova               0.000000    0.000000         0.0  \n",
      "urbinati                0.000000    0.000000         0.0  \n",
      "yurchak                 0.000000    0.000000         0.0  \n",
      "a_shubin                0.000000    0.000000         0.0  \n",
      "huppert                 0.000000    0.000000         0.0  \n",
      "lavrenchuk              0.000000    0.000000         0.0  \n",
      "khrapko                 0.000000    0.000000         0.0  \n",
      "sultanov                0.000000    0.000000         0.0  \n",
      "johnson                 0.000000    0.000000         0.0  \n",
      "sorokina                0.000000    0.000000         0.0  \n",
      "morozov_o               0.000000    0.000000         0.0  \n",
      "polonsky                0.000000    0.000000         0.0  \n",
      "\n",
      "[19321 rows x 2000 columns]\n"
     ]
    }
   ],
   "source": [
    "from scipy.spatial import ConvexHull\n",
    "phi = model_sparse_reg_1.get_phi()\n",
    "print(phi)"
   ]
  },
  {
   "cell_type": "code",
   "execution_count": null,
   "metadata": {
    "collapsed": true
   },
   "outputs": [],
   "source": [
    "def get_distance(topic, other_topic):\n",
    "    # take elements that are both nonzero\n",
    "    nonzero_indices = np.intersect1d(np.where(topic != 0), np.where(other_topic != 0))\n",
    "    topic_cut = topic[nonzero_indices]\n",
    "    other_topic_cut = other_topic[nonzero_indices]\n",
    "    dist = 0.5 * (np.log(topic_cut) - np.log(other_topic_cut)) * (topic_cut - other_topic_cut)\n",
    "    return dist"
   ]
  },
  {
   "cell_type": "code",
   "execution_count": null,
   "metadata": {
    "collapsed": true
   },
   "outputs": [],
   "source": [
    "def take_closest_topic(_phi, topic_idx):\n",
    "    topic = _phi[_phi.colphi.columnspic_idx]]\n",
    "    distances = {}\n",
    "    for col_idx in _phi.columns:\n",
    "        current_topic = _phi[_phi.columns[col_idx]]\n",
    "        distance = get_distance(topic, current_topic)\n",
    "        distances[col_idx] = distance\n",
    "    return distances"
   ]
  },
  {
   "cell_type": "code",
   "execution_count": 49,
   "metadata": {
    "collapsed": false
   },
   "outputs": [
    {
     "name": "stdout",
     "output_type": "stream",
     "text": [
      "[  63  107  177  188  223  370  678  953 1175 1283 1837 2948 3572 4504] (186L,)\n",
      "часть            0.013075\n",
      "половина         0.001130\n",
      "имя              0.001657\n",
      "пример           0.013693\n",
      "период           0.005560\n",
      "старший          0.003414\n",
      "использование    0.000970\n",
      "история          0.001588\n",
      "специалист       0.003345\n",
      "точность         0.003387\n",
      "устройство       0.007328\n",
      "основание        0.000626\n",
      "критерий         0.003288\n",
      "союз             0.007442\n",
      "Name: topic_1, dtype: float32\n"
     ]
    }
   ],
   "source": [
    "a = np.where(phi[phi.columns[1]] != 0)\n",
    "b = np.where(phi[phi.columns[2]] != 0)\n",
    "c = np.intersect1d(a, b)\n",
    "# print np.log(a)\n",
    "# print np.where(np.divide(phi[phi.columns[1]],phi[phi.columns[1]]) == 1)\n",
    "print c, a[0].shape\n",
    "print phi[phi.columns[1]][c]"
   ]
  },
  {
   "cell_type": "code",
   "execution_count": null,
   "metadata": {
    "collapsed": false
   },
   "outputs": [],
   "source": [
    "phi_t = phi.transpose()"
   ]
  },
  {
   "cell_type": "code",
   "execution_count": 51,
   "metadata": {
    "collapsed": false
   },
   "outputs": [
    {
     "name": "stdout",
     "output_type": "stream",
     "text": [
      "                      topic_0  topic_1   topic_2   topic_3   topic_4  \\\n",
      "книги                     0.0      0.0  0.000000  0.000000  0.000000   \n",
      "fuchs                     0.0      0.0  0.000000  0.000000  0.000000   \n",
      "preobrazhensky            0.0      0.0  0.000000  0.000000  0.000000   \n",
      "tabachnikov               0.0      0.0  0.000000  0.000000  0.000000   \n",
      "автограф                  0.0      0.0  0.000000  0.000000  0.000000   \n",
      "автор                     0.0      0.0  0.000000  0.000000  0.000000   \n",
      "кейс                      0.0      0.0  0.000000  0.000000  0.000000   \n",
      "математика                0.0      0.0  0.000000  0.000000  0.000000   \n",
      "образование               0.0      0.0  0.000785  0.000000  0.000000   \n",
      "красота                   0.0      0.0  0.000000  0.000000  0.000000   \n",
      "книга                     0.0      0.0  0.000000  0.000000  0.000000   \n",
      "университетский_курс      0.0      0.0  0.000000  0.000000  0.000000   \n",
      "дорога                    0.0      0.0  0.000000  0.000000  0.000000   \n",
      "проблема                  0.0      0.0  0.000000  0.000000  0.000000   \n",
      "задача                    0.0      0.0  0.000000  0.000000  0.000000   \n",
      "лекция                    0.0      0.0  0.000800  0.000000  0.000000   \n",
      "вопрос                    0.0      0.0  0.000000  0.004776  0.016038   \n",
      "экзамен                   0.0      0.0  0.000000  0.000000  0.000000   \n",
      "фонд                      0.0      0.0  0.000000  0.000000  0.000000   \n",
      "культура                  0.0      0.0  0.000000  0.000000  0.000000   \n",
      "интервью                  0.0      0.0  0.000000  0.000000  0.000000   \n",
      "дмитрия                   0.0      0.0  0.000000  0.000000  0.000000   \n",
      "полка                     0.0      0.0  0.000000  0.000000  0.000000   \n",
      "замысел                   0.0      0.0  0.000000  0.000000  0.000000   \n",
      "америка                   0.0      0.0  0.000000  0.000000  0.000000   \n",
      "журнал                    0.0      0.0  0.000000  0.003778  0.000000   \n",
      "квант                     0.0      0.0  0.000000  0.000000  0.000000   \n",
      "отдел                     0.0      0.0  0.000000  0.000000  0.000000   \n",
      "конец                     0.0      0.0  0.000000  0.002200  0.000000   \n",
      "работа                    0.0      0.0  0.026150  0.005095  0.000000   \n",
      "...                       ...      ...       ...       ...       ...   \n",
      "levkievskaya              0.0      0.0  0.000000  0.000000  0.000000   \n",
      "landsburg                 0.0      0.0  0.000000  0.000000  0.000000   \n",
      "frankwilczek              0.0      0.0  0.000000  0.000000  0.000000   \n",
      "kirillov                  0.0      0.0  0.000000  0.000000  0.000000   \n",
      "konstantinovky            0.0      0.0  0.000000  0.000000  0.000000   \n",
      "johannisson               0.0      0.0  0.000000  0.000000  0.000000   \n",
      "frith                     0.0      0.0  0.000000  0.000000  0.000000   \n",
      "ryazanov                  0.0      0.0  0.000000  0.000000  0.000000   \n",
      "ionov                     0.0      0.0  0.000000  0.000000  0.000000   \n",
      "vlachos                   0.0      0.0  0.000000  0.000000  0.000000   \n",
      "gilliham                  0.0      0.0  0.000000  0.000000  0.000000   \n",
      "carroll                   0.0      0.0  0.000000  0.000000  0.000000   \n",
      "aureli                    0.0      0.0  0.000000  0.000000  0.000000   \n",
      "campbell                  0.0      0.0  0.000000  0.000000  0.000000   \n",
      "vaiskopf                  0.0      0.0  0.000000  0.000000  0.000000   \n",
      "nathov                    0.0      0.0  0.000000  0.000000  0.000000   \n",
      "usov                      0.0      0.0  0.000000  0.000000  0.000000   \n",
      "zhizan                    0.0      0.0  0.000000  0.000000  0.000000   \n",
      "krasikova                 0.0      0.0  0.000000  0.000000  0.000000   \n",
      "urbinati                  0.0      0.0  0.000000  0.000000  0.000000   \n",
      "yurchak                   0.0      0.0  0.000000  0.000000  0.000000   \n",
      "a_shubin                  0.0      0.0  0.000000  0.000000  0.000000   \n",
      "huppert                   0.0      0.0  0.000000  0.000000  0.000000   \n",
      "lavrenchuk                0.0      0.0  0.000000  0.000000  0.000000   \n",
      "khrapko                   0.0      0.0  0.000000  0.000000  0.000000   \n",
      "sultanov                  0.0      0.0  0.000000  0.000000  0.000000   \n",
      "johnson                   0.0      0.0  0.000000  0.000000  0.000000   \n",
      "sorokina                  0.0      0.0  0.000000  0.000000  0.000000   \n",
      "morozov_o                 0.0      0.0  0.000000  0.000000  0.000000   \n",
      "polonsky                  0.0      0.0  0.000000  0.000000  0.000000   \n",
      "\n",
      "                       topic_5   topic_6  topic_7   topic_8   topic_9  \n",
      "книги                 0.000000  0.000000      0.0  0.000000  0.000000  \n",
      "fuchs                 0.000000  0.000000      0.0  0.000000  0.000000  \n",
      "preobrazhensky        0.000000  0.000000      0.0  0.000000  0.000000  \n",
      "tabachnikov           0.000000  0.000000      0.0  0.000000  0.000000  \n",
      "автограф              0.000000  0.000000      0.0  0.000000  0.002212  \n",
      "автор                 0.000000  0.000000      0.0  0.000000  0.000000  \n",
      "кейс                  0.000000  0.000000      0.0  0.000000  0.000000  \n",
      "математика            0.000000  0.000000      0.0  0.000000  0.015639  \n",
      "образование           0.000000  0.000000      0.0  0.000000  0.000000  \n",
      "красота               0.000847  0.000000      0.0  0.000000  0.000000  \n",
      "книга                 0.000000  0.000000      0.0  0.000000  0.000000  \n",
      "университетский_курс  0.000000  0.002169      0.0  0.000000  0.000000  \n",
      "дорога                0.004234  0.000000      0.0  0.000000  0.000000  \n",
      "проблема              0.014390  0.000000      0.0  0.002576  0.000000  \n",
      "задача                0.000000  0.034919      0.0  0.000000  0.000000  \n",
      "лекция                0.000000  0.000000      0.0  0.000000  0.000000  \n",
      "вопрос                0.000888  0.000000      0.0  0.004588  0.000000  \n",
      "экзамен               0.000000  0.000000      0.0  0.000000  0.000000  \n",
      "фонд                  0.000000  0.000000      0.0  0.000000  0.000000  \n",
      "культура              0.000000  0.000000      0.0  0.000000  0.000000  \n",
      "интервью              0.000000  0.000000      0.0  0.000000  0.006760  \n",
      "дмитрия               0.000000  0.000000      0.0  0.000000  0.000000  \n",
      "полка                 0.000000  0.000000      0.0  0.000000  0.000000  \n",
      "замысел               0.002539  0.000000      0.0  0.000000  0.000000  \n",
      "америка               0.000000  0.000000      0.0  0.000000  0.000000  \n",
      "журнал                0.000000  0.000000      0.0  0.000000  0.000000  \n",
      "квант                 0.000000  0.000000      0.0  0.000000  0.000000  \n",
      "отдел                 0.000000  0.000000      0.0  0.000000  0.000000  \n",
      "конец                 0.000000  0.000000      0.0  0.000000  0.000000  \n",
      "работа                0.000000  0.000000      0.0  0.000000  0.000000  \n",
      "...                        ...       ...      ...       ...       ...  \n",
      "levkievskaya          0.000000  0.000000      0.0  0.000000  0.000000  \n",
      "landsburg             0.000000  0.000000      0.0  0.000000  0.000000  \n",
      "frankwilczek          0.000000  0.000000      0.0  0.000000  0.000000  \n",
      "kirillov              0.000000  0.000000      0.0  0.000000  0.000000  \n",
      "konstantinovky        0.000000  0.000000      0.0  0.000000  0.000000  \n",
      "johannisson           0.000000  0.000000      0.0  0.000000  0.000000  \n",
      "frith                 0.000000  0.000000      0.0  0.000000  0.000000  \n",
      "ryazanov              0.000000  0.000000      0.0  0.000000  0.000000  \n",
      "ionov                 0.000000  0.000000      0.0  0.000000  0.000000  \n",
      "vlachos               0.000000  0.000000      0.0  0.000000  0.000000  \n",
      "gilliham              0.000000  0.000000      0.0  0.000000  0.000000  \n",
      "carroll               0.000000  0.000000      0.0  0.000000  0.000000  \n",
      "aureli                0.000000  0.000000      0.0  0.000000  0.000000  \n",
      "campbell              0.000000  0.000000      0.0  0.000000  0.000000  \n",
      "vaiskopf              0.000000  0.000000      0.0  0.000000  0.000000  \n",
      "nathov                0.000000  0.000000      0.0  0.000000  0.000000  \n",
      "usov                  0.000000  0.000000      0.0  0.000000  0.000000  \n",
      "zhizan                0.000000  0.000000      0.0  0.000000  0.000000  \n",
      "krasikova             0.000000  0.000000      0.0  0.000000  0.000000  \n",
      "urbinati              0.000000  0.000000      0.0  0.000000  0.000000  \n",
      "yurchak               0.000000  0.000000      0.0  0.000000  0.000000  \n",
      "a_shubin              0.000000  0.000000      0.0  0.000000  0.000000  \n",
      "huppert               0.000000  0.000000      0.0  0.000000  0.000000  \n",
      "lavrenchuk            0.000000  0.000000      0.0  0.000000  0.000000  \n",
      "khrapko               0.000000  0.000000      0.0  0.000000  0.000000  \n",
      "sultanov              0.000000  0.000000      0.0  0.000000  0.000000  \n",
      "johnson               0.000000  0.000000      0.0  0.000000  0.000000  \n",
      "sorokina              0.000000  0.000000      0.0  0.000000  0.000000  \n",
      "morozov_o             0.000000  0.000000      0.0  0.000000  0.000000  \n",
      "polonsky              0.000000  0.000000      0.0  0.000000  0.000000  \n",
      "\n",
      "[19321 rows x 10 columns]\n"
     ]
    }
   ],
   "source": [
    "phi_cut = phi[phi.columns[0 : 10]]\n",
    "print phi_cut"
   ]
  },
  {
   "cell_type": "code",
   "execution_count": null,
   "metadata": {
    "collapsed": false
   },
   "outputs": [],
   "source": [
    "print(np.sum(phi[phi.columns[0]]))\n",
    "print(phi_t.shape)"
   ]
  },
  {
   "cell_type": "code",
   "execution_count": 58,
   "metadata": {
    "collapsed": false
   },
   "outputs": [
    {
     "name": "stdout",
     "output_type": "stream",
     "text": [
      "<bound method DataFrame.transpose of                       topic_0  topic_1   topic_2   topic_3   topic_4  \\\n",
      "книги                     0.0      0.0  0.000000  0.000000  0.000000   \n",
      "fuchs                     0.0      0.0  0.000000  0.000000  0.000000   \n",
      "preobrazhensky            0.0      0.0  0.000000  0.000000  0.000000   \n",
      "tabachnikov               0.0      0.0  0.000000  0.000000  0.000000   \n",
      "автограф                  0.0      0.0  0.000000  0.000000  0.000000   \n",
      "автор                     0.0      0.0  0.000000  0.000000  0.000000   \n",
      "кейс                      0.0      0.0  0.000000  0.000000  0.000000   \n",
      "математика                0.0      0.0  0.000000  0.000000  0.000000   \n",
      "образование               0.0      0.0  0.000785  0.000000  0.000000   \n",
      "красота                   0.0      0.0  0.000000  0.000000  0.000000   \n",
      "книга                     0.0      0.0  0.000000  0.000000  0.000000   \n",
      "университетский_курс      0.0      0.0  0.000000  0.000000  0.000000   \n",
      "дорога                    0.0      0.0  0.000000  0.000000  0.000000   \n",
      "проблема                  0.0      0.0  0.000000  0.000000  0.000000   \n",
      "задача                    0.0      0.0  0.000000  0.000000  0.000000   \n",
      "лекция                    0.0      0.0  0.000800  0.000000  0.000000   \n",
      "вопрос                    0.0      0.0  0.000000  0.004776  0.016038   \n",
      "экзамен                   0.0      0.0  0.000000  0.000000  0.000000   \n",
      "фонд                      0.0      0.0  0.000000  0.000000  0.000000   \n",
      "культура                  0.0      0.0  0.000000  0.000000  0.000000   \n",
      "интервью                  0.0      0.0  0.000000  0.000000  0.000000   \n",
      "дмитрия                   0.0      0.0  0.000000  0.000000  0.000000   \n",
      "полка                     0.0      0.0  0.000000  0.000000  0.000000   \n",
      "замысел                   0.0      0.0  0.000000  0.000000  0.000000   \n",
      "америка                   0.0      0.0  0.000000  0.000000  0.000000   \n",
      "журнал                    0.0      0.0  0.000000  0.003778  0.000000   \n",
      "квант                     0.0      0.0  0.000000  0.000000  0.000000   \n",
      "отдел                     0.0      0.0  0.000000  0.000000  0.000000   \n",
      "конец                     0.0      0.0  0.000000  0.002200  0.000000   \n",
      "работа                    0.0      0.0  0.026150  0.005095  0.000000   \n",
      "...                       ...      ...       ...       ...       ...   \n",
      "levkievskaya              0.0      0.0  0.000000  0.000000  0.000000   \n",
      "landsburg                 0.0      0.0  0.000000  0.000000  0.000000   \n",
      "frankwilczek              0.0      0.0  0.000000  0.000000  0.000000   \n",
      "kirillov                  0.0      0.0  0.000000  0.000000  0.000000   \n",
      "konstantinovky            0.0      0.0  0.000000  0.000000  0.000000   \n",
      "johannisson               0.0      0.0  0.000000  0.000000  0.000000   \n",
      "frith                     0.0      0.0  0.000000  0.000000  0.000000   \n",
      "ryazanov                  0.0      0.0  0.000000  0.000000  0.000000   \n",
      "ionov                     0.0      0.0  0.000000  0.000000  0.000000   \n",
      "vlachos                   0.0      0.0  0.000000  0.000000  0.000000   \n",
      "gilliham                  0.0      0.0  0.000000  0.000000  0.000000   \n",
      "carroll                   0.0      0.0  0.000000  0.000000  0.000000   \n",
      "aureli                    0.0      0.0  0.000000  0.000000  0.000000   \n",
      "campbell                  0.0      0.0  0.000000  0.000000  0.000000   \n",
      "vaiskopf                  0.0      0.0  0.000000  0.000000  0.000000   \n",
      "nathov                    0.0      0.0  0.000000  0.000000  0.000000   \n",
      "usov                      0.0      0.0  0.000000  0.000000  0.000000   \n",
      "zhizan                    0.0      0.0  0.000000  0.000000  0.000000   \n",
      "krasikova                 0.0      0.0  0.000000  0.000000  0.000000   \n",
      "urbinati                  0.0      0.0  0.000000  0.000000  0.000000   \n",
      "yurchak                   0.0      0.0  0.000000  0.000000  0.000000   \n",
      "a_shubin                  0.0      0.0  0.000000  0.000000  0.000000   \n",
      "huppert                   0.0      0.0  0.000000  0.000000  0.000000   \n",
      "lavrenchuk                0.0      0.0  0.000000  0.000000  0.000000   \n",
      "khrapko                   0.0      0.0  0.000000  0.000000  0.000000   \n",
      "sultanov                  0.0      0.0  0.000000  0.000000  0.000000   \n",
      "johnson                   0.0      0.0  0.000000  0.000000  0.000000   \n",
      "sorokina                  0.0      0.0  0.000000  0.000000  0.000000   \n",
      "morozov_o                 0.0      0.0  0.000000  0.000000  0.000000   \n",
      "polonsky                  0.0      0.0  0.000000  0.000000  0.000000   \n",
      "\n",
      "                       topic_5   topic_6  topic_7   topic_8   topic_9  \n",
      "книги                 0.000000  0.000000      0.0  0.000000  0.000000  \n",
      "fuchs                 0.000000  0.000000      0.0  0.000000  0.000000  \n",
      "preobrazhensky        0.000000  0.000000      0.0  0.000000  0.000000  \n",
      "tabachnikov           0.000000  0.000000      0.0  0.000000  0.000000  \n",
      "автограф              0.000000  0.000000      0.0  0.000000  0.002212  \n",
      "автор                 0.000000  0.000000      0.0  0.000000  0.000000  \n",
      "кейс                  0.000000  0.000000      0.0  0.000000  0.000000  \n",
      "математика            0.000000  0.000000      0.0  0.000000  0.015639  \n",
      "образование           0.000000  0.000000      0.0  0.000000  0.000000  \n",
      "красота               0.000847  0.000000      0.0  0.000000  0.000000  \n",
      "книга                 0.000000  0.000000      0.0  0.000000  0.000000  \n",
      "университетский_курс  0.000000  0.002169      0.0  0.000000  0.000000  \n",
      "дорога                0.004234  0.000000      0.0  0.000000  0.000000  \n",
      "проблема              0.014390  0.000000      0.0  0.002576  0.000000  \n",
      "задача                0.000000  0.034919      0.0  0.000000  0.000000  \n",
      "лекция                0.000000  0.000000      0.0  0.000000  0.000000  \n",
      "вопрос                0.000888  0.000000      0.0  0.004588  0.000000  \n",
      "экзамен               0.000000  0.000000      0.0  0.000000  0.000000  \n",
      "фонд                  0.000000  0.000000      0.0  0.000000  0.000000  \n",
      "культура              0.000000  0.000000      0.0  0.000000  0.000000  \n",
      "интервью              0.000000  0.000000      0.0  0.000000  0.006760  \n",
      "дмитрия               0.000000  0.000000      0.0  0.000000  0.000000  \n",
      "полка                 0.000000  0.000000      0.0  0.000000  0.000000  \n",
      "замысел               0.002539  0.000000      0.0  0.000000  0.000000  \n",
      "америка               0.000000  0.000000      0.0  0.000000  0.000000  \n",
      "журнал                0.000000  0.000000      0.0  0.000000  0.000000  \n",
      "квант                 0.000000  0.000000      0.0  0.000000  0.000000  \n",
      "отдел                 0.000000  0.000000      0.0  0.000000  0.000000  \n",
      "конец                 0.000000  0.000000      0.0  0.000000  0.000000  \n",
      "работа                0.000000  0.000000      0.0  0.000000  0.000000  \n",
      "...                        ...       ...      ...       ...       ...  \n",
      "levkievskaya          0.000000  0.000000      0.0  0.000000  0.000000  \n",
      "landsburg             0.000000  0.000000      0.0  0.000000  0.000000  \n",
      "frankwilczek          0.000000  0.000000      0.0  0.000000  0.000000  \n",
      "kirillov              0.000000  0.000000      0.0  0.000000  0.000000  \n",
      "konstantinovky        0.000000  0.000000      0.0  0.000000  0.000000  \n",
      "johannisson           0.000000  0.000000      0.0  0.000000  0.000000  \n",
      "frith                 0.000000  0.000000      0.0  0.000000  0.000000  \n",
      "ryazanov              0.000000  0.000000      0.0  0.000000  0.000000  \n",
      "ionov                 0.000000  0.000000      0.0  0.000000  0.000000  \n",
      "vlachos               0.000000  0.000000      0.0  0.000000  0.000000  \n",
      "gilliham              0.000000  0.000000      0.0  0.000000  0.000000  \n",
      "carroll               0.000000  0.000000      0.0  0.000000  0.000000  \n",
      "aureli                0.000000  0.000000      0.0  0.000000  0.000000  \n",
      "campbell              0.000000  0.000000      0.0  0.000000  0.000000  \n",
      "vaiskopf              0.000000  0.000000      0.0  0.000000  0.000000  \n",
      "nathov                0.000000  0.000000      0.0  0.000000  0.000000  \n",
      "usov                  0.000000  0.000000      0.0  0.000000  0.000000  \n",
      "zhizan                0.000000  0.000000      0.0  0.000000  0.000000  \n",
      "krasikova             0.000000  0.000000      0.0  0.000000  0.000000  \n",
      "urbinati              0.000000  0.000000      0.0  0.000000  0.000000  \n",
      "yurchak               0.000000  0.000000      0.0  0.000000  0.000000  \n",
      "a_shubin              0.000000  0.000000      0.0  0.000000  0.000000  \n",
      "huppert               0.000000  0.000000      0.0  0.000000  0.000000  \n",
      "lavrenchuk            0.000000  0.000000      0.0  0.000000  0.000000  \n",
      "khrapko               0.000000  0.000000      0.0  0.000000  0.000000  \n",
      "sultanov              0.000000  0.000000      0.0  0.000000  0.000000  \n",
      "johnson               0.000000  0.000000      0.0  0.000000  0.000000  \n",
      "sorokina              0.000000  0.000000      0.0  0.000000  0.000000  \n",
      "morozov_o             0.000000  0.000000      0.0  0.000000  0.000000  \n",
      "polonsky              0.000000  0.000000      0.0  0.000000  0.000000  \n",
      "\n",
      "[19321 rows x 10 columns]>\n"
     ]
    }
   ],
   "source": [
    "print(phi_cut.transpose)"
   ]
  },
  {
   "cell_type": "code",
   "execution_count": 63,
   "metadata": {
    "collapsed": true
   },
   "outputs": [],
   "source": [
    "points = phi.transpose()"
   ]
  },
  {
   "cell_type": "code",
   "execution_count": null,
   "metadata": {
    "collapsed": false
   },
   "outputs": [
    {
     "name": "stdout",
     "output_type": "stream",
     "text": [
      "[2016-11-25 19:40:41.905000] PCA fitting started \n",
      "[2016-11-25 19:42:02.329000] PCA fitting finished \n",
      "[2016-11-25 19:42:04.844000] PCA transforming finished \n"
     ]
    }
   ],
   "source": [
    "print '[{}] PCA fitting started '.format(datetime.now())\n",
    "model = PCA(n_components=200).fit(points)\n",
    "print '[{}] PCA fitting finished '.format(datetime.now())\n",
    "proj_vertices = model.transform(points)\n",
    "print '[{}] PCA transforming finished '.format(datetime.now())\n",
    "hull_kinda = ConvexHull(proj_vertices)\n",
    "print '[{}] ConvexHull finished '.format(datetime.now())"
   ]
  },
  {
   "cell_type": "code",
   "execution_count": 62,
   "metadata": {
    "collapsed": false
   },
   "outputs": [
    {
     "ename": "QhullError",
     "evalue": "QH6214 qhull input error: not enough points(10) to construct initial simplex (need 19322)\n\nWhile executing:  | qhull i Qx Qt\nOptions selected for Qhull 2015.2.r 2016/01/18:\n  run-id 1404989462  incidence  Qxact-merge  Qtriangulate  _zero-centrum\n  Q3-no-merge-vertices-dim-high\n",
     "output_type": "error",
     "traceback": [
      "\u001b[0;31m---------------------------------------------------------------------------\u001b[0m",
      "\u001b[0;31mQhullError\u001b[0m                                Traceback (most recent call last)",
      "\u001b[0;32m<ipython-input-62-272667878799>\u001b[0m in \u001b[0;36m<module>\u001b[0;34m()\u001b[0m\n\u001b[0;32m----> 1\u001b[0;31m \u001b[0mhull\u001b[0m \u001b[1;33m=\u001b[0m \u001b[0mConvexHull\u001b[0m\u001b[1;33m(\u001b[0m\u001b[0mphi_cut\u001b[0m\u001b[1;33m.\u001b[0m\u001b[0mtranspose\u001b[0m\u001b[1;33m(\u001b[0m\u001b[1;33m)\u001b[0m\u001b[1;33m)\u001b[0m\u001b[1;33m\u001b[0m\u001b[0m\n\u001b[0m\u001b[1;32m      2\u001b[0m \u001b[1;32mprint\u001b[0m \u001b[0mhull\u001b[0m\u001b[1;33m.\u001b[0m\u001b[0mvertices\u001b[0m\u001b[1;33m\u001b[0m\u001b[0m\n",
      "\u001b[0;32mscipy/spatial/qhull.pyx\u001b[0m in \u001b[0;36mscipy.spatial.qhull.ConvexHull.__init__ (scipy\\spatial\\qhull.c:21288)\u001b[0;34m()\u001b[0m\n",
      "\u001b[0;32mscipy/spatial/qhull.pyx\u001b[0m in \u001b[0;36mscipy.spatial.qhull._Qhull.__init__ (scipy\\spatial\\qhull.c:5108)\u001b[0;34m()\u001b[0m\n",
      "\u001b[0;31mQhullError\u001b[0m: QH6214 qhull input error: not enough points(10) to construct initial simplex (need 19322)\n\nWhile executing:  | qhull i Qx Qt\nOptions selected for Qhull 2015.2.r 2016/01/18:\n  run-id 1404989462  incidence  Qxact-merge  Qtriangulate  _zero-centrum\n  Q3-no-merge-vertices-dim-high\n"
     ]
    }
   ],
   "source": [
    "hull = ConvexHull(phi_cut.transpose())\n",
    "print hull.vertices"
   ]
  },
  {
   "cell_type": "code",
   "execution_count": null,
   "metadata": {
    "collapsed": false
   },
   "outputs": [],
   "source": [
    "hull = ConvexHull(phi)\n",
    "simplices = hull.simplices\n",
    "vertices = hull.vertices"
   ]
  },
  {
   "cell_type": "code",
   "execution_count": null,
   "metadata": {
    "collapsed": true
   },
   "outputs": [],
   "source": [
    "hull[simplices, :]"
   ]
  },
  {
   "cell_type": "code",
   "execution_count": null,
   "metadata": {
    "collapsed": true
   },
   "outputs": [],
   "source": [
    "models_file.close()"
   ]
  }
 ],
 "metadata": {
  "anaconda-cloud": {},
  "kernelspec": {
   "display_name": "Python [conda root]",
   "language": "python",
   "name": "conda-root-py"
  },
  "language_info": {
   "codemirror_mode": {
    "name": "ipython",
    "version": 2
   },
   "file_extension": ".py",
   "mimetype": "text/x-python",
   "name": "python",
   "nbconvert_exporter": "python",
   "pygments_lexer": "ipython2",
   "version": "2.7.12"
  }
 },
 "nbformat": 4,
 "nbformat_minor": 1
}
